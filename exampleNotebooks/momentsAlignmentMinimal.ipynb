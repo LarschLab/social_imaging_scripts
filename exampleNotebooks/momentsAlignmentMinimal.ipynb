{
 "cells": [
  {
   "cell_type": "markdown",
   "id": "2690acae",
   "metadata": {},
   "source": [
    "# Moment-based alignment of two stacks\n",
    "This notebook performs a direct moments-based rigid alignment between a fixed and a moving stack using only centroid and second-order statistics, then saves the aligned volume and transform without any extra preprocessing steps."
   ]
  },
  {
   "cell_type": "markdown",
   "id": "e4c69b6d",
   "metadata": {},
   "source": [
    "## 1. Set Up Environment and Parameters\n",
    "Import required libraries and define the file paths for the fixed and moving stacks along with the output directory."
   ]
  },
  {
   "cell_type": "code",
   "execution_count": 1,
   "id": "21e02bb1",
   "metadata": {},
   "outputs": [
    {
     "name": "stdout",
     "output_type": "stream",
     "text": [
      "Fixed stack:  /mnt/nas_jlarsch/johannes/testIn/average_2p_noRot_flip_8b.nrrd\n",
      "Moving stack: /mnt/nas_jlarsch/johannes/testIn/L395_f10_anatomy_00002_8b.nrrd\n",
      "Outputs will be stored in: /mnt/f/Johannes/testOutput/fireants/momentsMinimal\n"
     ]
    }
   ],
   "source": [
    "from pathlib import Path\n",
    "import json\n",
    "import numpy as np\n",
    "import SimpleITK as sitk\n",
    "from scipy import ndimage\n",
    "from skimage.metrics import structural_similarity as ssim\n",
    "\n",
    "# Update these paths to point to the desired input stacks and output directory\n",
    "FIXED_PATH = Path('/mnt/nas_jlarsch/johannes/testIn/average_2p_noRot_flip_8b.nrrd')\n",
    "MOVING_PATH = Path('/mnt/nas_jlarsch/johannes/testIn/L395_f10_anatomy_00002_8b.nrrd')\n",
    "OUTPUT_DIR = Path('/mnt/f/Johannes/testOutput/fireants/momentsMinimal').resolve()\n",
    "OUTPUT_DIR.mkdir(parents=True, exist_ok=True)\n",
    "\n",
    "print(f'Fixed stack:  {FIXED_PATH}')\n",
    "print(f'Moving stack: {MOVING_PATH}')\n",
    "print(f'Outputs will be stored in: {OUTPUT_DIR}')"
   ]
  },
  {
   "cell_type": "markdown",
   "id": "6c355065",
   "metadata": {},
   "source": [
    "## 2. Load Input Stacks\n",
    "Read both stacks into SimpleITK images and NumPy arrays while confirming orientation, spacing, and value ranges."
   ]
  },
  {
   "cell_type": "code",
   "execution_count": 2,
   "id": "5f8f4a5d",
   "metadata": {},
   "outputs": [
    {
     "name": "stdout",
     "output_type": "stream",
     "text": [
      "Fixed stack metadata:\n",
      "  size: (512, 512, 183)\n",
      "  spacing: (1.0484, 1.0484, 1.0)\n",
      "  direction: (1.0, 0.0, 0.0, 0.0, 1.0, 0.0, 0.0, 0.0, 1.0)\n",
      "  origin: (0.0, 0.0, 0.0)\n",
      "  dtype: float32 value range: (0.0, 255.0)\n",
      "\n",
      "Moving stack metadata:\n",
      "  size: (512, 512, 206)\n",
      "  spacing: (1.048361882567406, 1.048361882567406, 1.0)\n",
      "  direction: (1.0, 0.0, 0.0, 0.0, 1.0, 0.0, 0.0, 0.0, 1.0)\n",
      "  origin: (0.0, 0.0, 0.0)\n",
      "  dtype: float32 value range: (0.0, 255.0)\n",
      "Warning: stacks have different shapes: (183, 512, 512) vs (206, 512, 512)\n"
     ]
    }
   ],
   "source": [
    "def load_stack(path: Path):\n",
    "    if not path.exists():\n",
    "        raise FileNotFoundError(f'Missing stack: {path}')\n",
    "    image = sitk.ReadImage(str(path))\n",
    "    array = sitk.GetArrayFromImage(image).astype(np.float32)\n",
    "    return image, array\n",
    "\n",
    "fixed_sitk, fixed_np = load_stack(FIXED_PATH)\n",
    "moving_sitk, moving_np = load_stack(MOVING_PATH)\n",
    "\n",
    "print('Fixed stack metadata:')\n",
    "print('  size:', fixed_sitk.GetSize())\n",
    "print('  spacing:', fixed_sitk.GetSpacing())\n",
    "print('  direction:', fixed_sitk.GetDirection())\n",
    "print('  origin:', fixed_sitk.GetOrigin())\n",
    "print('  dtype:', fixed_np.dtype, 'value range:', (float(fixed_np.min()), float(fixed_np.max())))\n",
    "print()\n",
    "print('Moving stack metadata:')\n",
    "print('  size:', moving_sitk.GetSize())\n",
    "print('  spacing:', moving_sitk.GetSpacing())\n",
    "print('  direction:', moving_sitk.GetDirection())\n",
    "print('  origin:', moving_sitk.GetOrigin())\n",
    "print('  dtype:', moving_np.dtype, 'value range:', (float(moving_np.min()), float(moving_np.max())))\n",
    "\n",
    "if fixed_np.shape != moving_np.shape:\n",
    "    print('Warning: stacks have different shapes:', fixed_np.shape, 'vs', moving_np.shape)"
   ]
  },
  {
   "cell_type": "markdown",
   "id": "5c13b746",
   "metadata": {},
   "source": [
    "## 3. Compute Image Moments\n",
    "Compute spatial moments $m_{pq}$ and central moments $\\mu_{pq}$ to extract centroids and covariance structures for each stack."
   ]
  },
  {
   "cell_type": "code",
   "execution_count": null,
   "id": "b09b5f55",
   "metadata": {},
   "outputs": [
    {
     "ename": "AttributeError",
     "evalue": "module 'SimpleITK' has no attribute 'MomentsImageFilter'",
     "output_type": "error",
     "traceback": [
      "\u001b[0;31m---------------------------------------------------------------------------\u001b[0m",
      "\u001b[0;31mAttributeError\u001b[0m                            Traceback (most recent call last)",
      "Cell \u001b[0;32mIn[3], line 15\u001b[0m\n\u001b[1;32m      8\u001b[0m         principal_axes[:, \u001b[38;5;241m-\u001b[39m\u001b[38;5;241m1\u001b[39m] \u001b[38;5;241m*\u001b[39m\u001b[38;5;241m=\u001b[39m \u001b[38;5;241m-\u001b[39m\u001b[38;5;241m1\u001b[39m\n\u001b[1;32m      9\u001b[0m     \u001b[38;5;28;01mreturn\u001b[39;00m {\n\u001b[1;32m     10\u001b[0m         \u001b[38;5;124m'\u001b[39m\u001b[38;5;124mcentroid_physical\u001b[39m\u001b[38;5;124m'\u001b[39m: centroid,\n\u001b[1;32m     11\u001b[0m         \u001b[38;5;124m'\u001b[39m\u001b[38;5;124mprincipal_axes\u001b[39m\u001b[38;5;124m'\u001b[39m: principal_axes,\n\u001b[1;32m     12\u001b[0m         \u001b[38;5;124m'\u001b[39m\u001b[38;5;124mprincipal_moments\u001b[39m\u001b[38;5;124m'\u001b[39m: principal_moments,\n\u001b[1;32m     13\u001b[0m     }\n\u001b[0;32m---> 15\u001b[0m fixed_moments \u001b[38;5;241m=\u001b[39m \u001b[43mcompute_moments\u001b[49m\u001b[43m(\u001b[49m\u001b[43mfixed_sitk\u001b[49m\u001b[43m)\u001b[49m\n\u001b[1;32m     16\u001b[0m moving_moments \u001b[38;5;241m=\u001b[39m compute_moments(moving_sitk)\n\u001b[1;32m     18\u001b[0m \u001b[38;5;28mprint\u001b[39m(\u001b[38;5;124m'\u001b[39m\u001b[38;5;124mFixed centroid (mm):\u001b[39m\u001b[38;5;124m'\u001b[39m, fixed_moments[\u001b[38;5;124m'\u001b[39m\u001b[38;5;124mcentroid_physical\u001b[39m\u001b[38;5;124m'\u001b[39m])\n",
      "Cell \u001b[0;32mIn[3], line 2\u001b[0m, in \u001b[0;36mcompute_moments\u001b[0;34m(image)\u001b[0m\n\u001b[1;32m      1\u001b[0m \u001b[38;5;28;01mdef\u001b[39;00m\u001b[38;5;250m \u001b[39m\u001b[38;5;21mcompute_moments\u001b[39m(image: sitk\u001b[38;5;241m.\u001b[39mImage):\n\u001b[0;32m----> 2\u001b[0m     moments_filter \u001b[38;5;241m=\u001b[39m \u001b[43msitk\u001b[49m\u001b[38;5;241;43m.\u001b[39;49m\u001b[43mMomentsImageFilter\u001b[49m()\n\u001b[1;32m      3\u001b[0m     moments_filter\u001b[38;5;241m.\u001b[39mExecute(image)\n\u001b[1;32m      4\u001b[0m     centroid \u001b[38;5;241m=\u001b[39m np\u001b[38;5;241m.\u001b[39marray(moments_filter\u001b[38;5;241m.\u001b[39mGetCenterOfGravity(), dtype\u001b[38;5;241m=\u001b[39mnp\u001b[38;5;241m.\u001b[39mfloat64)\n",
      "\u001b[0;31mAttributeError\u001b[0m: module 'SimpleITK' has no attribute 'MomentsImageFilter'"
     ]
    }
   ],
   "source": [
    "def compute_moments(image: sitk.Image):\n",
    "    moments = sitk.ImageMoments(image)\n",
    "    centroid = np.array(moments.GetCenterOfGravity(), dtype=np.float64)\n",
    "    principal_axes = np.array(moments.GetPrincipalAxes(), dtype=np.float64).reshape(3, 3)\n",
    "    principal_moments = np.array(moments.GetPrincipalMoments(), dtype=np.float64)\n",
    "    if np.linalg.det(principal_axes) < 0:\n",
    "        principal_axes[:, -1] *= -1\n",
    "    return {\n",
    "        'centroid_physical': centroid,\n",
    "        'principal_axes': principal_axes,\n",
    "        'principal_moments': principal_moments,\n",
    "    }\n",
    "\n",
    "fixed_moments = compute_moments(fixed_sitk)\n",
    "moving_moments = compute_moments(moving_sitk)\n",
    "\n",
    "print('Fixed centroid (mm):', fixed_moments['centroid_physical'])\n",
    "print('Moving centroid (mm):', moving_moments['centroid_physical'])\n",
    "print('Fixed principal moments:', fixed_moments['principal_moments'])\n",
    "print('Moving principal moments:', moving_moments['principal_moments'])"
   ]
  },
  {
   "cell_type": "markdown",
   "id": "9deaacc0",
   "metadata": {},
   "source": [
    "## 4. Determine Alignment Transformations\n",
    "Derive rotation and translation parameters using the first- and second-order moments to build a rigid transform that maps the moving stack to the fixed stack."
   ]
  },
  {
   "cell_type": "code",
   "execution_count": null,
   "id": "c695fe17",
   "metadata": {},
   "outputs": [],
   "source": [
    "fixed_axes = fixed_moments['principal_axes']\n",
    "moving_axes = moving_moments['principal_axes']\n",
    "rotation = fixed_axes @ moving_axes.T\n",
    "if np.linalg.det(rotation) < 0:\n",
    "    rotation[:, -1] *= -1\n",
    "translation = fixed_moments['centroid_physical'] - rotation @ moving_moments['centroid_physical']\n",
    "\n",
    "alignment_parameters = {\n",
    "    'rotation_matrix': rotation.tolist(),\n",
    "    'translation_mm': translation.tolist(),\n",
    "    'fixed_principal_moments': fixed_moments['principal_moments'].tolist(),\n",
    "    'moving_principal_moments': moving_moments['principal_moments'].tolist(),\n",
    "}\n",
    "\n",
    "print('Rotation matrix (moving -> fixed):\\n', rotation)\n",
    "print('Translation (mm):', translation)\n",
    "print('Determinant of rotation:', np.linalg.det(rotation))"
   ]
  },
  {
   "cell_type": "markdown",
   "id": "23922549",
   "metadata": {},
   "source": [
    "## 5. Apply Moment-Based Alignment\n",
    "Convert the derived parameters into a rigid affine transform and resample the moving stack to the fixed stack grid."
   ]
  },
  {
   "cell_type": "code",
   "execution_count": null,
   "id": "2def1c08",
   "metadata": {},
   "outputs": [],
   "source": [
    "affine_transform = sitk.AffineTransform(3)\n",
    "affine_transform.SetMatrix(tuple(rotation.astype(np.float64).ravel()))\n",
    "affine_transform.SetTranslation(tuple(translation.astype(np.float64)))\n",
    "\n",
    "resampler = sitk.ResampleImageFilter()\n",
    "resampler.SetReferenceImage(fixed_sitk)\n",
    "resampler.SetInterpolator(sitk.sitkLinear)\n",
    "resampler.SetDefaultPixelValue(float(moving_np.min()))\n",
    "resampler.SetTransform(affine_transform)\n",
    "aligned_sitk = resampler.Execute(moving_sitk)\n",
    "aligned_np = sitk.GetArrayFromImage(aligned_sitk).astype(np.float32)\n",
    "\n",
    "print('Aligned stack shape:', aligned_np.shape)"
   ]
  },
  {
   "cell_type": "markdown",
   "id": "fa3c62c7",
   "metadata": {},
   "source": [
    "## 6. Validate Alignment Quality\n",
    "Compare the fixed and aligned stacks using mean squared error (MSE) and structural similarity (SSIM) on representative slices."
   ]
  },
  {
   "cell_type": "code",
   "execution_count": null,
   "id": "d3043965",
   "metadata": {},
   "outputs": [],
   "source": [
    "if fixed_np.shape != aligned_np.shape:\n",
    "    raise ValueError('Aligned stack shape mismatch; cannot compute metrics.')\n",
    "\n",
    "mse_value = float(np.mean((fixed_np - aligned_np) ** 2))\n",
    "mid_index = fixed_np.shape[0] // 2\n",
    "fixed_slice = fixed_np[mid_index]\n",
    "aligned_slice = aligned_np[mid_index]\n",
    "slice_range = float(max(fixed_slice.max(), aligned_slice.max()) - min(fixed_slice.min(), aligned_slice.min()))\n",
    "if slice_range == 0:\n",
    "    slice_range = 1.0\n",
    "ssim_value = float(ssim(fixed_slice, aligned_slice, data_range=slice_range))\n",
    "\n",
    "print(f'MSE (full volume): {mse_value:.6f}')\n",
    "print(f'SSIM (mid slice): {ssim_value:.4f}')"
   ]
  },
  {
   "cell_type": "markdown",
   "id": "23caf0a1",
   "metadata": {},
   "source": [
    "## 7. Persist Aligned Stacks\n",
    "Write the aligned stack and transform to disk and log the parameters used for reproducibility."
   ]
  },
  {
   "cell_type": "code",
   "execution_count": null,
   "id": "4081bcb3",
   "metadata": {},
   "outputs": [],
   "source": [
    "aligned_volume_path = OUTPUT_DIR / 'moving_moments_aligned.nrrd'\n",
    "transform_path = OUTPUT_DIR / 'moments_alignment_affine.tfm'\n",
    "summary_path = OUTPUT_DIR / 'moments_alignment_summary.json'\n",
    "\n",
    "sitk.WriteImage(aligned_sitk, str(aligned_volume_path))\n",
    "sitk.WriteTransform(affine_transform, str(transform_path))\n",
    "\n",
    "summary_payload = {\n",
    "    'fixed_path': str(FIXED_PATH),\n",
    "    'moving_path': str(MOVING_PATH),\n",
    "    'aligned_volume_path': str(aligned_volume_path),\n",
    "    'transform_path': str(transform_path),\n",
    "    'rotation_matrix': alignment_parameters['rotation_matrix'],\n",
    "    'translation_mm': alignment_parameters['translation_mm'],\n",
    "    'fixed_centroid_mm': fixed_moments['centroid_physical'].tolist(),\n",
    "    'moving_centroid_mm': moving_moments['centroid_physical'].tolist(),\n",
    "    'fixed_principal_moments': alignment_parameters['fixed_principal_moments'],\n",
    "    'moving_principal_moments': alignment_parameters['moving_principal_moments'],\n",
    "    'mse_full_volume': mse_value,\n",
    "    'ssim_mid_slice': ssim_value,\n",
    "}\n",
    "with summary_path.open('w', encoding='utf-8') as f:\n",
    "    json.dump(summary_payload, f, indent=2)\n",
    "\n",
    "print(f'Saved aligned volume to {aligned_volume_path}')\n",
    "print(f'Saved affine transform to {transform_path}')\n",
    "print(f'Saved alignment summary to {summary_path}')"
   ]
  }
 ],
 "metadata": {
  "kernelspec": {
   "display_name": "fireantsGH",
   "language": "python",
   "name": "python3"
  },
  "language_info": {
   "codemirror_mode": {
    "name": "ipython",
    "version": 3
   },
   "file_extension": ".py",
   "mimetype": "text/x-python",
   "name": "python",
   "nbconvert_exporter": "python",
   "pygments_lexer": "ipython3",
   "version": "3.9.23"
  }
 },
 "nbformat": 4,
 "nbformat_minor": 5
}
