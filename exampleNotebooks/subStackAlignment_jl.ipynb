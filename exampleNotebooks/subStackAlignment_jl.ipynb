{
 "cells": [
  {
   "cell_type": "markdown",
   "id": "cca3bdc7",
   "metadata": {},
   "source": [
    "Image stack alignment (moving -> fixed)\n",
    "- For each moving plane, find best (x, y, z, scale) in fixed stack.\n",
    "- Coarse-to-fine pyramid with template matching + subpixel refinement.\n",
    "- Outputs per-plane mapping in pixels (x,y) in fixed coords, z index/µm, and scale.\n",
    "\n",
    "Johannes Larsch 20250916"
   ]
  },
  {
   "cell_type": "markdown",
   "id": "ec8b7dcd",
   "metadata": {},
   "source": []
  },
  {
   "cell_type": "code",
   "execution_count": null,
   "id": "e525d5a7",
   "metadata": {},
   "outputs": [],
   "source": [
    "# Setup & imports\n",
    "%load_ext autoreload\n",
    "%autoreload 2\n",
    "import sys, math, warnings, json\n",
    "import numpy as np\n",
    "\n",
    "import os\n",
    "\n",
    "# Get parent of the notebook dir (project_root)\n",
    "project_root = os.path.abspath(os.path.join(os.getcwd(), \"..\"))\n",
    "\n",
    "# Add sibling directory \"src\" to sys.path\n",
    "sys.path.append(os.path.join(project_root, \"src\"))\n",
    "\n",
    "import alignSubstackUtils as asu\n",
    "import saveFunctionalProjections as sfp\n",
    "from skimage.transform import rotate as sk_rotate\n",
    "\n",
    "import pandas as pd\n",
    "\n",
    "\n",
    "from pathlib import Path\n",
    "import numpy as np\n",
    "import tifffile as tiff\n",
    "\n",
    "\n",
    "_HAS_SKIMAGE = True\n"
   ]
  },
  {
   "cell_type": "code",
   "execution_count": null,
   "id": "1641b6d7",
   "metadata": {},
   "outputs": [],
   "source": [
    "# === EDIT THIS PATH ===\n",
    "START_FOLDER = Path(r\"D:/i/danin_tests/temp/planes/\")\n",
    "rotation_angle = 140  # degrees, e.g. 0, 90, 180, 270\n",
    "sfp.save_max_avg_projections(START_FOLDER, rotation_angle)\n",
    "\n",
    "\n",
    "# Example usage:\n",
    "\n"
   ]
  },
  {
   "cell_type": "code",
   "execution_count": null,
   "id": "8dcfa6be",
   "metadata": {},
   "outputs": [],
   "source": [
    "# %% [markdown]\n",
    "# ### Example usage\n",
    "# Replace the dummy arrays with your actual data (NumPy arrays loaded from TIFF, NIfTI, HDF5, etc.)\n",
    "\n",
    "# %%\n",
    "\n",
    "\n",
    "# # Run registration\n",
    "# df_results = register_moving_stack(\n",
    "#     fixed_stack,\n",
    "#     moving_stack,\n",
    "#     fixed_z_spacing_um=1.0,\n",
    "#     scale_range=(0.35, 1.0),   # moving is more zoomed-in -> usually < 1.0\n",
    "#     n_scales=11,\n",
    "#     z_stride_coarse=4,\n",
    "#     z_refine_radius=3,\n",
    "#     pyramid_downscale=2,\n",
    "#     pyramid_min_size=160,\n",
    "#     verbose=True,\n",
    "# )\n",
    "# display(df_results)\n",
    "\n",
    "# %% [markdown]\n",
    "# ### Notes & tips\n",
    "# - If the moving FOV is substantially smaller, keep `scale_range` < 1 (e.g., 0.2–0.8).\n",
    "# - If computation is slow, increase `z_stride_coarse` or `pyramid_min_size`.\n",
    "# - For very noisy data, consider pre-filtering with a small Gaussian before normalization.\n",
    "# - `ncc_score` near 1.0 indicates a strong match; inspect low scores visually.\n",
    "# - Coordinates (x_px, y_px) are given in **fixed** image pixels at full resolution.\n",
    "\n"
   ]
  },
  {
   "cell_type": "code",
   "execution_count": null,
   "id": "e754a1bb",
   "metadata": {},
   "outputs": [],
   "source": [
    "import tifffile\n",
    "\n",
    "moving_p = Path(r\"Y:/Danin/imaging/temp/planes/projections/avg_projections.tif\")\n",
    "fixed_p = Path(r\"Y:/Danin/imaging/temp/f38_anatomy_00001_rotate_8b.tif\")\n",
    "fixed_stack = tifffile.imread(fixed_p)   # shape: (Zf, Yf, Xf), spacing 1 µm\n",
    "moving_stack = tifffile.imread(moving_p) # shape: (Zm, Ym, Xm), spacing 4–15 µm between planes\n",
    "\n",
    "\n",
    "df_results = asu.register_moving_stack(\n",
    "    fixed_stack, \n",
    "    moving_stack,\n",
    "    fixed_z_spacing_um=1.0,     # spacing between planes in the fixed stack (µm)\n",
    "    scale_range=(0.6, 1.0),   # expected relative zoom (moving→fixed); narrower range boosts SNR\n",
    "    n_scales=10,                 # number of discrete scales to test between scale_range\n",
    "    pyramid_downscale=2,      # downscale factor per pyramid level (smaller = finer refinement)\n",
    "    pyramid_min_size=140,       # stop pyramid when min dimension < this; ensures at least 1 coarse level\n",
    "    z_stride_coarse=2,          # step size for z-search at coarsest level (higher = faster, lower = more exhaustive)\n",
    "    z_refine_radius=3,          # number of planes around best z to test at finer levels\n",
    "    verbose=True,               # print per-plane progress and NCC scores\n",
    ")\n",
    "\n",
    "display(df_results)"
   ]
  },
  {
   "cell_type": "code",
   "execution_count": null,
   "id": "08f62654",
   "metadata": {},
   "outputs": [],
   "source": [
    "asu.interactive_checker(fixed_stack, moving_stack, df_results)"
   ]
  },
  {
   "cell_type": "markdown",
   "id": "b98865ee",
   "metadata": {},
   "source": []
  }
 ],
 "metadata": {
  "kernelspec": {
   "display_name": "napari-env",
   "language": "python",
   "name": "python3"
  },
  "language_info": {
   "codemirror_mode": {
    "name": "ipython",
    "version": 3
   },
   "file_extension": ".py",
   "mimetype": "text/x-python",
   "name": "python",
   "nbconvert_exporter": "python",
   "pygments_lexer": "ipython3",
   "version": "3.13.3"
  }
 },
 "nbformat": 4,
 "nbformat_minor": 5
}
