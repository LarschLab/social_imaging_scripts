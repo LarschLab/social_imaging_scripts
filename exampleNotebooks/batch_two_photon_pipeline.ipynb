{
 "cells": [
  {
   "cell_type": "markdown",
   "id": "cd85f549",
   "metadata": {},
   "source": [
    "# Batch Two-Photon Pipeline\n",
    "Run this notebook inside the `fireantsGH` conda environment on WSL.\n",
    "It orchestrates two-photon preprocessing and registration for every animal with a YAML metadata file."
   ]
  },
  {
   "cell_type": "code",
   "execution_count": null,
   "id": "792cc7d6",
   "metadata": {},
   "outputs": [],
   "source": [
    "from pathlib import Path\n",
    "\n",
    "from social_imaging_scripts.metadata.config import StageMode, load_project_config\n",
    "from social_imaging_scripts.pipeline import iter_animals_with_yaml\n",
    "\n",
    "cfg = load_project_config()\n",
    "animals = list(iter_animals_with_yaml())\n",
    "print(f\"Discovered {len(animals)} animals with YAML metadata.\")\n",
    "animal_ids = [animal.animal_id for animal in animals]\n",
    "animal_ids"
   ]
  },
  {
   "cell_type": "code",
   "execution_count": null,
   "id": "42e9ccb5",
   "metadata": {},
   "outputs": [],
   "source": [
    "# Pick one or more animals to process.\n",
    "# By default we grab the first entry so the notebook runs quickly.\n",
    "#selected_animals = [animal_ids[0]]\n",
    "selected_animals = [animal_ids[1]]\n",
    "selected_animals"
   ]
  },
  {
   "cell_type": "code",
   "execution_count": null,
   "id": "abe05d53",
   "metadata": {},
   "outputs": [],
   "source": [
    "# Stage control helper\n",
    "# Example: cfg_slice.confocal_to_anatomy_registration.mode = StageMode.FORCE"
   ]
  },
  {
   "cell_type": "code",
   "execution_count": null,
   "id": "136be069",
   "metadata": {},
   "outputs": [],
   "source": [
    "# COMPARISON MODE: Toggle between original (with crop) vs simplified (no crop)\n",
    "# \n",
    "# Legacy (True): Original working version - hard crop + masks + full prematch seed\n",
    "# Modern (False): Simplified version - only masks + full prematch seed (no crop)\n",
    "#\n",
    "# Both modes seed the FULL prematch (rotation + translation) into FireANTs\n",
    "USE_LEGACY_ROTATION_CROPPING = False"
   ]
  },
  {
   "cell_type": "code",
   "execution_count": null,
   "id": "a90e6fb0",
   "metadata": {},
   "outputs": [],
   "source": [
    "from social_imaging_scripts.pipeline import run_pipeline\n",
    "\n",
    "# Clone the project configuration so tweaks here do not affect other runs.\n",
    "cfg_slice = cfg.model_copy(deep=True)\n",
    "\n",
    "# Stage modes: StageMode.SKIP, StageMode.REUSE, StageMode.FORCE\n",
    "cfg_slice.functional_preprocessing.mode = StageMode.REUSE\n",
    "cfg_slice.motion_correction.mode = StageMode.REUSE\n",
    "cfg_slice.anatomy_preprocessing.mode = StageMode.REUSE\n",
    "cfg_slice.confocal_preprocessing.mode = StageMode.REUSE\n",
    "cfg_slice.fireants_registration.mode = StageMode.REUSE\n",
    "cfg_slice.confocal_to_anatomy_registration.mode = StageMode.FORCE\n",
    "cfg_slice.functional_to_anatomy_registration.mode = StageMode.REUSE\n",
    "\n",
    "# COMPARISON MODE: Toggle between original vs simplified approach\n",
    "cfg_slice.confocal_to_anatomy_registration.use_legacy_rotation_cropping = USE_LEGACY_ROTATION_CROPPING\n",
    "\n",
    "if USE_LEGACY_ROTATION_CROPPING:\n",
    "    print(\"📦 LEGACY MODE: Hard crop + masks + full prematch (original working version)\")\n",
    "else:\n",
    "    print(\"✨ MODERN MODE: Only masks + full prematch (simplified, no crop)\")\n",
    "\n",
    "result = run_pipeline(\n",
    "    animal_ids=selected_animals,\n",
    "    cfg=cfg_slice,\n",
    ")\n",
    "\n",
    "print(\"Pipeline run complete.\")\n",
    "try:\n",
    "    from IPython.display import display\n",
    "    display(result.to_dataframe())\n",
    "except Exception:\n",
    "    from pprint import pprint\n",
    "    pprint(list(result.iter_session_records()))\n"
   ]
  },
  {
   "cell_type": "code",
   "execution_count": null,
   "id": "e5a930bb",
   "metadata": {},
   "outputs": [],
   "source": []
  }
 ],
 "metadata": {
  "kernelspec": {
   "display_name": "fireantsGH",
   "language": "python",
   "name": "python3"
  },
  "language_info": {
   "codemirror_mode": {
    "name": "ipython",
    "version": 3
   },
   "file_extension": ".py",
   "mimetype": "text/x-python",
   "name": "python",
   "nbconvert_exporter": "python",
   "pygments_lexer": "ipython3",
   "version": "3.9.23"
  }
 },
 "nbformat": 4,
 "nbformat_minor": 5
}
