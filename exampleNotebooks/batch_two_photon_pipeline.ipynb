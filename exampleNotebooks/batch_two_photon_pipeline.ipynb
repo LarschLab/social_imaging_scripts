{
 "cells": [
  {
   "cell_type": "markdown",
   "id": "cd85f549",
   "metadata": {},
   "source": [
    "# Batch Two-Photon Pipeline\n",
    "Run this notebook inside the `fireantsGH` conda environment on WSL.\n",
    "It orchestrates two-photon preprocessing and registration for every animal with a YAML metadata file."
   ]
  },
  {
   "cell_type": "code",
   "execution_count": null,
   "id": "792cc7d6",
   "metadata": {},
   "outputs": [],
   "source": [
    "from pathlib import Path\n",
    "from social_imaging_scripts.metadata.config import load_project_config, resolve_reference_brain\n",
    "from social_imaging_scripts.pipeline import iter_animals_with_yaml\n",
    "\n",
    "cfg = load_project_config()\n",
    "reference_brain = resolve_reference_brain(cfg=cfg)\n",
    "print(f\"Reference brain: {reference_brain}\")\n",
    "print(f\"Reference brain exists: {Path(reference_brain).exists()}\")\n",
    "animals = list(iter_animals_with_yaml())\n",
    "print(f\"Discovered {len(animals)} animals with YAML metadata.\")\n",
    "animal_ids = [animal.animal_id for animal in animals]\n",
    "animal_ids\n"
   ]
  },
  {
   "cell_type": "code",
   "execution_count": null,
   "id": "42e9ccb5",
   "metadata": {},
   "outputs": [],
   "source": [
    "# Edit this list to restrict processing to a subset.\n",
    "selected_animals = animal_ids\n",
    "selected_animals"
   ]
  },
  {
   "cell_type": "code",
   "execution_count": null,
   "id": "a90e6fb0",
   "metadata": {},
   "outputs": [],
   "source": [
    "from social_imaging_scripts.pipeline import run_pipeline\n",
    "\n",
    "run_functional_preprocessing = True\n",
    "reprocess_functional = False\n",
    "run_motion_correction = True\n",
    "reprocess_motion = False\n",
    "run_anatomy_preprocessing = True\n",
    "reprocess_anatomy_pre = False\n",
    "run_fireants_registration = True\n",
    "reprocess_anatomy_registration = False\n",
    "\n",
    "result = run_pipeline(\n",
    "    animal_ids=selected_animals,\n",
    "    cfg=cfg,\n",
    "    functional_fps=2.0,\n",
    "    run_functional_preprocessing=run_functional_preprocessing,\n",
    "    run_motion_correction=run_motion_correction,\n",
    "    run_anatomy_preprocessing=run_anatomy_preprocessing,\n",
    "    run_fireants_registration=run_fireants_registration,\n",
    "    reprocess_functional=reprocess_functional,\n",
    "    reprocess_motion=reprocess_motion,\n",
    "    reprocess_anatomy_pre=reprocess_anatomy_pre,\n",
    "    reprocess_anatomy_registration=reprocess_anatomy_registration,\n",
    ")\n",
    "\n",
    "print(\"Pipeline run complete.\")\n",
    "try:\n",
    "    from IPython.display import display\n",
    "    display(result.to_dataframe())\n",
    "except Exception:\n",
    "    from pprint import pprint\n",
    "    pprint(list(result.iter_session_records()))"
   ]
  }
 ],
 "metadata": {
  "kernelspec": {
   "display_name": "Python 3",
   "language": "python",
   "name": "python3"
  },
  "language_info": {
   "name": "python",
   "version": "3.11"
  }
 },
 "nbformat": 4,
 "nbformat_minor": 5
}
