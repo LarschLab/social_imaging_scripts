{
 "cells": [
  {
   "cell_type": "markdown",
   "id": "cd85f549",
   "metadata": {},
   "source": [
    "# Batch Two-Photon Pipeline\n",
    "Run this notebook inside the `fireantsGH` conda environment on WSL.\n",
    "It orchestrates two-photon preprocessing and registration for every animal with a YAML metadata file."
   ]
  },
  {
   "cell_type": "code",
   "execution_count": null,
   "id": "792cc7d6",
   "metadata": {},
   "outputs": [],
   "source": [
    "from pathlib import Path\n",
    "\n",
    "from social_imaging_scripts.metadata.config import load_project_config\n",
    "from social_imaging_scripts.pipeline import iter_animals_with_yaml\n",
    "\n",
    "cfg = load_project_config()\n",
    "animals = list(iter_animals_with_yaml())\n",
    "print(f\"Discovered {len(animals)} animals with YAML metadata.\")\n",
    "animal_ids = [animal.animal_id for animal in animals]\n",
    "animal_ids"
   ]
  },
  {
   "cell_type": "code",
   "execution_count": null,
   "id": "42e9ccb5",
   "metadata": {},
   "outputs": [],
   "source": [
    "# Pick one or more animals to process.\n",
    "# By default we grab the first entry so the notebook runs quickly.\n",
    "selected_animals = animal_ids#[:1]\n",
    "selected_animals"
   ]
  },
  {
   "cell_type": "code",
   "execution_count": null,
   "id": "a90e6fb0",
   "metadata": {},
   "outputs": [],
   "source": [
    "from social_imaging_scripts.pipeline import run_pipeline\n",
    "\n",
    "# Clone the project configuration so tweaks here do not affect other runs.\n",
    "cfg_slice = cfg.model_copy(deep=True)\n",
    "\n",
    "# Optional: adjust stage toggles or reprocessing flags for this notebook run.\n",
    "cfg_slice.functional_preprocessing.enabled = True\n",
    "cfg_slice.functional_preprocessing.reprocess = False\n",
    "cfg_slice.motion_correction.enabled = True\n",
    "cfg_slice.motion_correction.reprocess = False\n",
    "cfg_slice.anatomy_preprocessing.enabled = True\n",
    "cfg_slice.anatomy_preprocessing.reprocess = False\n",
    "cfg_slice.fireants_registration.enabled = True\n",
    "cfg_slice.fireants_registration.reprocess = False\n",
    "cfg_slice.functional_to_anatomy_registration.enabled = True\n",
    "cfg_slice.functional_to_anatomy_registration.reprocess = False\n",
    "\n",
    "result = run_pipeline(\n",
    "    animal_ids=selected_animals,\n",
    "    cfg=cfg_slice,\n",
    ")\n",
    "\n",
    "print(\"Pipeline run complete.\")\n",
    "try:\n",
    "    from IPython.display import display\n",
    "    display(result.to_dataframe())\n",
    "except Exception:\n",
    "    from pprint import pprint\n",
    "    pprint(list(result.iter_session_records()))"
   ]
  },
  {
   "cell_type": "code",
   "execution_count": null,
   "id": "e5a930bb",
   "metadata": {},
   "outputs": [],
   "source": []
  }
 ],
 "metadata": {
  "kernelspec": {
   "display_name": "fireantsGH",
   "language": "python",
   "name": "python3"
  },
  "language_info": {
   "codemirror_mode": {
    "name": "ipython",
    "version": 3
   },
   "file_extension": ".py",
   "mimetype": "text/x-python",
   "name": "python",
   "nbconvert_exporter": "python",
   "pygments_lexer": "ipython3",
   "version": "3.9.23"
  }
 },
 "nbformat": 4,
 "nbformat_minor": 5
}
