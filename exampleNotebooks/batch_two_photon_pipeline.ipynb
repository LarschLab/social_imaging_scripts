{
  "cells": [
    {
      "cell_type": "markdown",
      "metadata": {},
      "source": [
        "# Batch Two-Photon Pipeline\n",
        "Run this notebook inside the `fireantsGH` conda environment on WSL.\n",
        "It orchestrates two-photon preprocessing and registration for every animal with a YAML metadata file."
      ]
    },
    {
      "cell_type": "code",
      "execution_count": null,
      "metadata": {},
      "outputs": [],
      "source": [
        "from social_imaging_scripts.metadata.config import load_project_config\n",
        "from social_imaging_scripts.pipeline import iter_animals_with_yaml\n",
        "\n",
        "cfg = load_project_config()\n",
        "animals = list(iter_animals_with_yaml())\n",
        "print(f\"Discovered {len(animals)} animals with YAML metadata.\")\n",
        "animal_ids = [animal.animal_id for animal in animals]\n",
        "animal_ids"
      ]
    },
    {
      "cell_type": "code",
      "execution_count": null,
      "metadata": {},
      "outputs": [],
      "source": [
        "# Edit this list to restrict processing to a subset.\n",
        "selected_animals = animal_ids\n",
        "selected_animals"
      ]
    },
    {
      "cell_type": "code",
      "execution_count": null,
      "metadata": {},
      "outputs": [],
      "source": [
        "from social_imaging_scripts.pipeline import run_pipeline\n",
        "\n",
        "result = run_pipeline(\n",
        "    animal_ids=selected_animals,\n",
        "    cfg=cfg,\n",
        "    functional_fps=2.0,\n",
        ")\n",
        "\n",
        "print(\"Pipeline run complete.\")\n",
        "try:\n",
        "    from IPython.display import display\n",
        "    display(result.to_dataframe())\n",
        "except Exception:\n",
        "    from pprint import pprint\n",
        "    pprint(list(result.iter_session_records()))"
      ]
    }
  ],
  "metadata": {
    "kernelspec": {
      "display_name": "Python 3",
      "language": "python",
      "name": "python3"
    },
    "language_info": {
      "name": "python",
      "version": "3.11"
    }
  },
  "nbformat": 4,
  "nbformat_minor": 5
}
