{
 "cells": [
  {
   "cell_type": "markdown",
   "id": "5f135663",
   "metadata": {},
   "source": [
    "# Generate animal YAML files\n",
    "\n",
    "This notebook shows which animals in `metadata/animals_entries.xlsx` already have YAML files and provides a helper to (re)generate YAML metadata for selected animals. Any failures during generation are reported per animal without stopping the batch.\n"
   ]
  },
  {
   "cell_type": "code",
   "execution_count": null,
   "id": "6e77f95e",
   "metadata": {},
   "outputs": [],
   "source": [
    "from __future__ import annotations\n",
    "\n",
    "import shutil\n",
    "import tempfile\n",
    "from pathlib import Path\n",
    "from typing import Iterable\n",
    "\n",
    "import pandas as pd\n",
    "\n",
    "from social_imaging_scripts.metadata import build_metadata_from_excel\n",
    "\n",
    "# Determine repository root even when this notebook is executed from exampleNotebooks/\n",
    "REPO_ROOT = Path.cwd().resolve()\n",
    "if not (REPO_ROOT / 'metadata').exists():\n",
    "    REPO_ROOT = REPO_ROOT.parent\n",
    "XLSX_PATH = REPO_ROOT / 'metadata/animals_entries.xlsx'\n",
    "YAML_DIR = REPO_ROOT / 'metadata/animals'\n",
    "YAML_DIR.mkdir(parents=True, exist_ok=True)\n"
   ]
  },
  {
   "cell_type": "code",
   "execution_count": null,
   "id": "56532cef",
   "metadata": {},
   "outputs": [],
   "source": [
    "REPO_ROOT"
   ]
  },
  {
   "cell_type": "code",
   "execution_count": null,
   "id": "1de8bbe0",
   "metadata": {},
   "outputs": [],
   "source": [
    "\n",
    "# Inspect which animals already have YAML metadata\n",
    "animals_df = pd.read_excel(XLSX_PATH, sheet_name='Animals')\n",
    "animals_df['animal_id'] = animals_df['animal_id'].astype(str).str.strip()\n",
    "existing_yaml = {p.stem for p in YAML_DIR.glob('*.yaml')}\n",
    "status_df = animals_df[['animal_id']].copy()\n",
    "status_df['yaml_exists'] = status_df['animal_id'].isin(existing_yaml)\n",
    "status_df = status_df.sort_values('animal_id').reset_index(drop=True)\n",
    "status_df\n"
   ]
  },
  {
   "cell_type": "code",
   "execution_count": null,
   "id": "254f80ea",
   "metadata": {},
   "outputs": [],
   "source": [
    "\n",
    "def build_yaml_for_animals(animal_ids: Iterable[str]) -> tuple[list[str], dict[str, str]]:\n",
    "    '''Generate YAML metadata for the requested animals.\n",
    "\n",
    "    Returns a tuple ``(successes, failures)`` where *successes* is a list of\n",
    "    animal IDs that were written successfully and *failures* maps the animal ID\n",
    "    to the exception message raised during generation.\n",
    "    '''\n",
    "\n",
    "    animals_df = pd.read_excel(XLSX_PATH, sheet_name='Animals')\n",
    "    sessions_df = pd.read_excel(XLSX_PATH, sheet_name='Sessions')\n",
    "    settings_df = pd.read_excel(XLSX_PATH, sheet_name='2p_settings')\n",
    "\n",
    "    animals_df['animal_id'] = animals_df['animal_id'].astype(str).str.strip()\n",
    "    sessions_df['animal_id'] = sessions_df['animal_id'].astype(str).str.strip()\n",
    "    sessions_df['stack_id'] = sessions_df['stack_id'].astype(str).str.strip()\n",
    "    settings_df['session_id'] = settings_df['session_id'].astype(str).str.strip()\n",
    "\n",
    "    successes: list[str] = []\n",
    "    failures: dict[str, str] = {}\n",
    "\n",
    "    for raw_id in animal_ids:\n",
    "        animal_id = str(raw_id).strip()\n",
    "        if not animal_id:\n",
    "            continue\n",
    "\n",
    "        mask = animals_df['animal_id'] == animal_id\n",
    "        if not mask.any():\n",
    "            failures[animal_id] = 'animal_id not found in workbook'\n",
    "            continue\n",
    "\n",
    "        tmp_dir = Path(tempfile.mkdtemp(prefix=f'animal_{animal_id}_'))\n",
    "        tmp_xlsx = tmp_dir / 'animal_subset.xlsx'\n",
    "        try:\n",
    "            sessions_subset = sessions_df[sessions_df['animal_id'] == animal_id].copy()\n",
    "            tp_session_ids = sessions_subset['stack_id'].astype(str).str.strip()\n",
    "            settings_subset = settings_df[settings_df['session_id'].isin(tp_session_ids)].copy()\n",
    "\n",
    "            with pd.ExcelWriter(tmp_xlsx, engine='openpyxl') as writer:\n",
    "                animals_df[mask].to_excel(writer, sheet_name='Animals', index=False)\n",
    "                sessions_subset.to_excel(writer, sheet_name='Sessions', index=False)\n",
    "                settings_subset.to_excel(writer, sheet_name='two_photon_settings', index=False)\n",
    "\n",
    "            out_path = YAML_DIR / f'{animal_id}.yaml'\n",
    "            if out_path.exists():\n",
    "                out_path.unlink()\n",
    "\n",
    "            build_metadata_from_excel(tmp_xlsx, YAML_DIR)\n",
    "            successes.append(animal_id)\n",
    "        except Exception as exc:\n",
    "            failures[animal_id] = str(exc)\n",
    "        finally:\n",
    "            shutil.rmtree(tmp_dir, ignore_errors=True)\n",
    "\n",
    "    return successes, failures\n"
   ]
  },
  {
   "cell_type": "code",
   "execution_count": null,
   "id": "3b5a59f6",
   "metadata": {},
   "outputs": [],
   "source": [
    "\n",
    "# Specify the animals you want to (re)generate YAML files for.\n",
    "# Update this list as needed.\n",
    "target_animals = [\n",
    "    'L395_f10',\n",
    "    'L395_f11',\n",
    "    'L331_f01',\n",
    "    'L395_f06',\n",
    "]\n",
    "\n",
    "successes, failures = build_yaml_for_animals(target_animals)\n",
    "print('YAML generation complete.')\n",
    "print('  successes:', successes)\n",
    "if failures:\n",
    "    print('  failures:')\n",
    "    for aid, msg in failures.items():\n",
    "        print(f'    {aid}: {msg}')\n",
    "else:\n",
    "    print('  failures: none')\n"
   ]
  },
  {
   "cell_type": "code",
   "execution_count": null,
   "id": "1bb612bc",
   "metadata": {},
   "outputs": [],
   "source": [
    "\n",
    "# Refresh the status table after generation\n",
    "existing_yaml = {p.stem for p in YAML_DIR.glob('*.yaml')}\n",
    "status_df['yaml_exists'] = status_df['animal_id'].isin(existing_yaml)\n",
    "status_df.sort_values('animal_id').reset_index(drop=True)\n"
   ]
  }
 ],
 "metadata": {
  "kernelspec": {
   "display_name": "fireantsGH",
   "language": "python",
   "name": "python3"
  },
  "language_info": {
   "codemirror_mode": {
    "name": "ipython",
    "version": 3
   },
   "file_extension": ".py",
   "mimetype": "text/x-python",
   "name": "python",
   "nbconvert_exporter": "python",
   "pygments_lexer": "ipython3",
   "version": "3.9.23"
  }
 },
 "nbformat": 4,
 "nbformat_minor": 5
}
