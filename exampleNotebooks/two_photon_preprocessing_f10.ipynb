{
 "cells": [
  {
   "cell_type": "markdown",
   "id": "2cf2531e",
   "metadata": {},
   "source": [
    "\n",
    "# Two-photon Functional Preprocessing (L395_f10)\n",
    "\n",
    "This notebook loads repository metadata, derives the preprocessing parameters for a two-photon functional session, and runs the preprocessing pipeline. Output artefacts mirror the existing `02_reg/00_preprocessing/2p_functional` layout, but everything is written into `D:/pipelineTestOutput` for testing.\n",
    "\n",
    "> Set `REPROCESS = True` if you need to overwrite existing outputs.\n"
   ]
  },
  {
   "cell_type": "code",
   "execution_count": 19,
   "id": "3a8a99d9",
   "metadata": {},
   "outputs": [],
   "source": [
    "from pathlib import Path\n",
    "import logging\n",
    "\n",
    "from social_imaging_scripts.metadata.loader import load_animals\n",
    "from social_imaging_scripts.preprocessing.two_photon import functional, motion\n",
    "from social_imaging_scripts.metadata.config import load_project_config\n",
    "from social_imaging_scripts.metadata.config import resolve_raw_path\n",
    "\n",
    "\n",
    "logging.basicConfig(level=logging.INFO, format=\"%(asctime)s %(levelname)s %(message)s\")"
   ]
  },
  {
   "cell_type": "code",
   "execution_count": 27,
   "id": "6dabf957",
   "metadata": {},
   "outputs": [],
   "source": [
    "\n",
    "cfg = load_project_config()\n",
    "PROJECT_ROOT = Path.cwd().parent\n",
    "ANIMAL_ID = \"L395_f10\"\n",
    "OUTPUT_BASE = cfg.output_base_dir  # resolves to /mnt/f/johannes/testoutput on WSL, D:/social_imaging_outputs on Windows\n",
    "\n",
    "METADATA_BASE = PROJECT_ROOT / \"metadata/animals\"\n",
    "\n",
    "FAST_DISK = OUTPUT_BASE  # Path('D:/pipelineTestOutput/temp_suite2p') if you want binaries elsewhere\n",
    "OPS_PATH = Path(\"../suite2p_ops_may2025.npy\")\n"
   ]
  },
  {
   "cell_type": "code",
   "execution_count": 28,
   "id": "79cdf8d6",
   "metadata": {},
   "outputs": [],
   "source": [
    "REPROCESS = False # whether to re-run plane splitting if outputs already exist\n",
    "MOTION_REPROCESS = False\n",
    "FPS = 2.0  # Hz\n",
    "\n",
    "\n",
    "ops_template = motion.load_global_ops(OPS_PATH)\n",
    "ops_template['nonrigid'] = True"
   ]
  },
  {
   "cell_type": "code",
   "execution_count": 24,
   "id": "03f2e4c9",
   "metadata": {},
   "outputs": [
    {
     "name": "stdout",
     "output_type": "stream",
     "text": [
      "Raw directory: 01_raw/2p/functional\n",
      "Output root: /mnt/f/johannes/testoutput/L395_f10/02_reg/00_preprocessing/2p_functional\n",
      "Mode: resonant\n",
      "Planes: 5\n",
      "Frames per plane: 3\n",
      "Blocks: [2, 3]\n"
     ]
    }
   ],
   "source": [
    "\n",
    "collection = load_animals(base_dir=METADATA_BASE)\n",
    "animal = collection.by_id(ANIMAL_ID)\n",
    "\n",
    "functional_sessions = [s for s in animal.sessions if s.session_type == \"functional_stack\"]\n",
    "if not functional_sessions:\n",
    "    raise RuntimeError(f\"No functional sessions found for {ANIMAL_ID}\")\n",
    "\n",
    "session = functional_sessions[0]\n",
    "settings = session.session_data.preprocessing_two_photon\n",
    "if settings is None:\n",
    "    raise RuntimeError(\"Two-photon preprocessing settings missing in metadata\")\n",
    "\n",
    "raw_dir = Path(session.session_data.raw_path)\n",
    "output_root = OUTPUT_BASE / ANIMAL_ID / \"02_reg\" / \"00_preprocessing\" / \"2p_functional\"\n",
    "\n",
    "print(\"Raw directory:\", raw_dir)\n",
    "print(\"Output root:\", output_root)\n",
    "print(\"Mode:\", settings.mode)\n",
    "print(\"Planes:\", settings.n_planes)\n",
    "print(\"Frames per plane:\", settings.frames_per_plane)\n",
    "print(\"Blocks:\", settings.blocks)\n"
   ]
  },
  {
   "cell_type": "code",
   "execution_count": 25,
   "id": "1885ea7f",
   "metadata": {},
   "outputs": [],
   "source": [
    "\n",
    "def preprocess_functional_session(*, animal, session, settings, output_root, reprocess=False):\n",
    "    output_root = Path(output_root)\n",
    "    metadata_path = output_root / \"01_individualPlanes\" / f\"{animal.animal_id}_preprocessing_metadata.json\"\n",
    "\n",
    "    if metadata_path.exists() and not reprocess:\n",
    "        print(f\"Skipping preprocessing for {animal.animal_id} (metadata exists at {metadata_path})\")\n",
    "        return {\"metadata\": metadata_path}\n",
    "\n",
    "    results = functional.run(\n",
    "        animal_id=animal.animal_id,\n",
    "        session_id=session.session_id,\n",
    "        raw_dir=resolve_raw_path(Path(animal.root_dir) / session.session_data.raw_path),\n",
    "        output_root=output_root,\n",
    "        settings=settings,\n",
    "    )\n",
    "    print(\"Generated artefacts:\")\n",
    "    for key, path in results.items():\n",
    "        print(f\"  {key}: {path}\")\n",
    "    return results\n"
   ]
  },
  {
   "cell_type": "code",
   "execution_count": 26,
   "id": "06881d8f",
   "metadata": {},
   "outputs": [
    {
     "name": "stderr",
     "output_type": "stream",
     "text": [
      "2025-09-28 22:35:16,211 INFO Loading block L395_f10_00002.tif\n",
      "2025-09-28 22:37:15,655 INFO Loading block L395_f10_00003.tif\n",
      "2025-09-28 22:39:36,852 INFO Concatenated stack shape: (46800, 512, 512)\n",
      "2025-09-28 22:40:31,975 INFO Reshaped stack into 3120 volumes x 5 planes x 2 frames (512 x 512)\n"
     ]
    },
    {
     "name": "stdout",
     "output_type": "stream",
     "text": [
      "Generated artefacts:\n",
      "  metadata: /mnt/f/johannes/testoutput/L395_f10/02_reg/00_preprocessing/2p_functional/01_individualPlanes/L395_f10_preprocessing_metadata.json\n",
      "  plane_0: /mnt/f/johannes/testoutput/L395_f10/02_reg/00_preprocessing/2p_functional/01_individualPlanes/L395_f10_plane0.tif\n",
      "  plane_1: /mnt/f/johannes/testoutput/L395_f10/02_reg/00_preprocessing/2p_functional/01_individualPlanes/L395_f10_plane1.tif\n",
      "  plane_2: /mnt/f/johannes/testoutput/L395_f10/02_reg/00_preprocessing/2p_functional/01_individualPlanes/L395_f10_plane2.tif\n",
      "  plane_3: /mnt/f/johannes/testoutput/L395_f10/02_reg/00_preprocessing/2p_functional/01_individualPlanes/L395_f10_plane3.tif\n",
      "  plane_4: /mnt/f/johannes/testoutput/L395_f10/02_reg/00_preprocessing/2p_functional/01_individualPlanes/L395_f10_plane4.tif\n"
     ]
    }
   ],
   "source": [
    "\n",
    "results = preprocess_functional_session(\n",
    "    animal=animal,\n",
    "    session=session,\n",
    "    settings=settings,\n",
    "    output_root=output_root,\n",
    "    reprocess=REPROCESS,\n",
    ")\n"
   ]
  },
  {
   "cell_type": "code",
   "execution_count": null,
   "id": "355a305f",
   "metadata": {},
   "outputs": [
    {
     "name": "stdout",
     "output_type": "stream",
     "text": [
      "{}\n",
      "tif\n",
      "** Found 1 tifs - converting to binary **\n",
      "1600 frames of binary, time 29.66 sec.\n",
      "time 40.37 sec. Wrote 3120 frames per binary for 1 planes\n",
      ">>>>>>>>>>>>>>>>>>>>> PLANE 0 <<<<<<<<<<<<<<<<<<<<<<\n",
      "NOTE: not registered / registration forced with ops['do_registration']>1\n",
      "      (no previous offsets to delete)\n",
      "NOTE: Applying builtin classifier at /home/jlarsch/miniforge3/envs/antspy-win/lib/python3.10/site-packages/suite2p/classifiers/classifier.npy\n",
      "----------- REGISTRATION\n",
      "NOTE: estimated bidiphase offset from data: 0 pixels\n",
      "Reference frame, 9.26 sec.\n",
      "Registered 400/3120 in 11.32s\n",
      "Registered 800/3120 in 20.60s\n",
      "Registered 1200/3120 in 32.16s\n",
      "Registered 1600/3120 in 45.87s\n",
      "Registered 2000/3120 in 55.42s\n",
      "Registered 2400/3120 in 67.21s\n",
      "Registered 2800/3120 in 80.54s\n",
      "Registered 3120/3120 in 87.20s\n",
      "----------- Total 107.98 sec\n",
      "Registration metrics, 17.01 sec.\n",
      "----------- ROI DETECTION\n",
      "Binning movie in chunks of length 06\n",
      "Binned movie of size [520,482,488] created in 2.28 sec.\n",
      "Binned movie denoised (for cell detection only) in 145.71 sec.\n",
      "NOTE: estimated spatial scale ~6 pixels, time epochs 1.00, threshold 4.00 \n",
      "0 ROIs, score=116.48\n",
      "Detected 287 ROIs, 8.11 sec\n",
      "['npix_norm', 'compact']\n",
      "Preclassify threshold 0.30, 9 ROIs removed\n",
      "After removing overlaps, 238 ROIs remain\n",
      "----------- Total 157.06 sec.\n",
      "----------- EXTRACTION\n",
      "Masks created, 0.28 sec.\n"
     ]
    },
    {
     "name": "stderr",
     "output_type": "stream",
     "text": [
      "/home/jlarsch/miniforge3/envs/antspy-win/lib/python3.10/site-packages/suite2p/extraction/extract.py:125: NumbaTypeSafetyWarning: unsafe cast from uint64 to int64. Precision may be lost.\n",
      "  Fi[n] = np.dot(data[:, cell_ipix[n]], cell_lam[n])\n"
     ]
    },
    {
     "name": "stdout",
     "output_type": "stream",
     "text": [
      "Extracted fluorescence from 238 ROIs in 3120 frames, 6.26 sec.\n",
      "----------- Total 7.28 sec.\n",
      "----------- CLASSIFICATION\n",
      "['skew', 'npix_norm', 'compact']\n",
      "----------- SPIKE DECONVOLUTION\n",
      "----------- Total 0.03 sec.\n",
      "Plane 0 processed in 293.95 sec (can open in GUI).\n",
      "total = 335.02 sec.\n",
      "TOTAL RUNTIME 335.02 sec\n",
      "Processed plane 0\n",
      "{}\n",
      "tif\n",
      "** Found 1 tifs - converting to binary **\n"
     ]
    }
   ],
   "source": [
    "plane_dir = output_root / '01_individualPlanes'\n",
    "plane_tiffs = sorted(plane_dir.glob(f'{ANIMAL_ID}_plane*.tif'))\n",
    "if not plane_tiffs:\n",
    "    raise FileNotFoundError(f'No plane TIFFs found in {plane_dir}')\n",
    "\n",
    "motion_results = []\n",
    "for plane_path in plane_tiffs:\n",
    "    try:\n",
    "        plane_idx = int(plane_path.stem.split('plane')[-1])\n",
    "    except ValueError as err:\n",
    "        raise ValueError(f'Unexpected plane filename: {plane_path.name}') from err\n",
    "\n",
    "    res = motion.run_motion_correction(\n",
    "        animal=animal,\n",
    "        plane_idx=plane_idx,\n",
    "        plane_tiff=plane_path,\n",
    "        ops_template=ops_template,\n",
    "        fps=FPS,\n",
    "        output_root=output_root,\n",
    "        fast_disk=FAST_DISK,\n",
    "        reprocess=MOTION_REPROCESS,\n",
    "    )\n",
    "    motion_results.append(res)\n",
    "    print(f'Processed plane {plane_idx}')"
   ]
  },
  {
   "cell_type": "code",
   "execution_count": null,
   "id": "4cd9c4d3",
   "metadata": {},
   "outputs": [],
   "source": [
    "print('Motion correction outputs:')\n",
    "for res in motion_results:\n",
    "    for key, path in res.items():\n",
    "        print(f'  {key}: {path}')"
   ]
  },
  {
   "cell_type": "code",
   "execution_count": null,
   "id": "073d7717",
   "metadata": {},
   "outputs": [],
   "source": [
    "\n",
    "from itertools import islice\n",
    "\n",
    "plane_dir = output_root / \"01_individualPlanes\"\n",
    "if plane_dir.exists():\n",
    "    print(\"Sample outputs:\")\n",
    "    for path in islice(sorted(plane_dir.glob(\"*.tif\")), 5):\n",
    "        print(\"  \", path)\n",
    "    metadata_file = plane_dir / f\"{animal.animal_id}_preprocessing_metadata.json\"\n",
    "    if metadata_file.exists():\n",
    "        print(\"Metadata:\", metadata_file)\n"
   ]
  },
  {
   "cell_type": "markdown",
   "id": "0acb77d0",
   "metadata": {},
   "source": [
    "## FireANTs registration test"
   ]
  },
  {
   "cell_type": "code",
   "execution_count": null,
   "id": "97100fc3",
   "metadata": {},
   "outputs": [],
   "source": [
    "from social_imaging_scripts.preprocessing.two_photon import anatomy as anatomy_preproc\n",
    "try:\n",
    "    from social_imaging_scripts.registration.fireants import FireANTsConfig, register_two_photon_anatomy\n",
    "except ImportError as exc:\n",
    "    fireants_available = False\n",
    "    print(\"FireANTs integration unavailable:\", exc)\n",
    "else:\n",
    "    fireants_available = True\n",
    "\n",
    "REFERENCE_BRAIN_RELATIVE = Path(\"03_Common_Use/reference brains/ref_05_LB_Perrino_2p/average_2p_noRot_orig.nrrd\")\n",
    "reference_brain_path = resolve_raw_path(REFERENCE_BRAIN_RELATIVE, cfg=cfg)"
   ]
  },
  {
   "cell_type": "code",
   "execution_count": null,
   "id": "a799fb1b",
   "metadata": {},
   "outputs": [],
   "source": [
    "ANATOMY_REPROCESS = False\n",
    "\n",
    "anatomy_sessions = [\n",
    "    s for s in animal.sessions\n",
    "    if s.session_type == \"anatomy_stack\" and getattr(s.session_data, \"stack_type\", \"\") == \"two_photon\"\n",
    "]\n",
    "if not anatomy_sessions:\n",
    "    raise RuntimeError(f\"No two-photon anatomy session found for {ANIMAL_ID}\")\n",
    "\n",
    "anatomy_session = anatomy_sessions[0]\n",
    "raw_anatomy = Path(animal.root_dir) / anatomy_session.session_data.raw_path\n",
    "raw_anatomy_full = resolve_raw_path(raw_anatomy, cfg=cfg)\n",
    "raw_anatomy_dir = raw_anatomy_full if raw_anatomy_full.is_dir() else raw_anatomy_full.parent\n",
    "\n",
    "ANATOMY_OUTPUT_ROOT = OUTPUT_BASE / ANIMAL_ID / \"02_reg\" / \"00_preprocessing\" / \"2p_anatomy\"\n",
    "ANATOMY_OUTPUT_ROOT.mkdir(parents=True, exist_ok=True)\n",
    "\n",
    "anatomy_stack_path = ANATOMY_OUTPUT_ROOT / f\"{ANIMAL_ID}_anatomy_stack.tif\"\n",
    "if ANATOMY_REPROCESS or not anatomy_stack_path.exists():\n",
    "    print(\"Running anatomy preprocessing...\")\n",
    "    anatomy_preproc.run(\n",
    "        animal_id=animal.animal_id,\n",
    "        session_id=anatomy_session.session_id,\n",
    "        raw_dir=raw_anatomy_dir,\n",
    "        output_root=ANATOMY_OUTPUT_ROOT,\n",
    "        settings=anatomy_session.session_data.preprocessing_two_photon,\n",
    "    )\n",
    "else:\n",
    "    print(\"Using cached anatomy stack:\", anatomy_stack_path)"
   ]
  },
  {
   "cell_type": "code",
   "execution_count": null,
   "id": "4030c9e1",
   "metadata": {},
   "outputs": [],
   "source": [
    "if not anatomy_stack_path.exists():\n",
    "    raise FileNotFoundError(f\"Anatomy stack not found at {anatomy_stack_path}\")\n",
    "\n",
    "if not fireants_available:\n",
    "    print(\"FireANTs module unavailable; skipping registration test.\")\n",
    "else:\n",
    "    registration_output_root = OUTPUT_BASE / ANIMAL_ID / \"02_reg\" / \"01_fireants\"\n",
    "    registration_output_root.mkdir(parents=True, exist_ok=True)\n",
    "\n",
    "    fireants_cfg = FireANTsConfig()\n",
    "\n",
    "    registration_outputs = register_two_photon_anatomy(\n",
    "        animal_id=ANIMAL_ID,\n",
    "        session_id=anatomy_session.session_id,\n",
    "        stack_path=anatomy_stack_path,\n",
    "        output_root=registration_output_root,\n",
    "        reference_brain_path=reference_brain_path,\n",
    "        config=fireants_cfg,\n",
    "    )\n",
    "    print(\"Warped stack:\", registration_outputs.get(\"warped_stack\"))\n",
    "    print(\"QC image:\", registration_outputs.get(\"qc_figure\"))\n",
    "\n",
    "    qc_path = registration_outputs.get(\"qc_figure\")\n",
    "    if qc_path:\n",
    "        from IPython.display import Image, display\n",
    "        display(Image(filename=qc_path))"
   ]
  }
 ],
 "metadata": {
  "kernelspec": {
   "display_name": "antspy-win",
   "language": "python",
   "name": "python3"
  },
  "language_info": {
   "codemirror_mode": {
    "name": "ipython",
    "version": 3
   },
   "file_extension": ".py",
   "mimetype": "text/x-python",
   "name": "python",
   "nbconvert_exporter": "python",
   "pygments_lexer": "ipython3",
   "version": "3.10.18"
  }
 },
 "nbformat": 4,
 "nbformat_minor": 5
}
