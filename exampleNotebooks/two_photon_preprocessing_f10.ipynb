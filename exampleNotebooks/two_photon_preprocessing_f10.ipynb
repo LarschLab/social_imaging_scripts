{
 "cells": [
  {
   "cell_type": "markdown",
   "id": "2cf2531e",
   "metadata": {},
   "source": [
    "\n",
    "# Two-photon Functional Preprocessing (L395_f10)\n",
    "\n",
    "This notebook loads repository metadata, derives the preprocessing parameters for a two-photon functional session, and runs the preprocessing pipeline. Output artefacts mirror the existing `02_reg/00_preprocessing/2p_functional` layout, but everything is written into `D:/pipelineTestOutput` for testing.\n",
    "\n",
    "> Set `REPROCESS = True` if you need to overwrite existing outputs.\n"
   ]
  },
  {
   "cell_type": "code",
   "execution_count": 1,
   "id": "3a8a99d9",
   "metadata": {},
   "outputs": [],
   "source": [
    "from pathlib import Path\n",
    "import logging\n",
    "\n",
    "from social_imaging_scripts.metadata.loader import load_animals\n",
    "from social_imaging_scripts.preprocessing.two_photon import functional, motion\n",
    "\n",
    "logging.basicConfig(level=logging.INFO, format=\"%(asctime)s %(levelname)s %(message)s\")"
   ]
  },
  {
   "cell_type": "code",
   "execution_count": 2,
   "id": "6dabf957",
   "metadata": {},
   "outputs": [],
   "source": [
    "\n",
    "ANIMAL_ID = \"L395_f10\"\n",
    "OUTPUT_BASE = Path(\"D:/pipelineTestOutput\")\n",
    "REPROCESS = False\n",
    "METADATA_BASE = Path(r\"D:/Documents/social_imaging_scripts/metadata/animals\")\n"
   ]
  },
  {
   "cell_type": "code",
   "execution_count": null,
   "id": "79cdf8d6",
   "metadata": {},
   "outputs": [],
   "source": [
    "MOTION_REPROCESS = False\n",
    "FPS = 2.0  # Hz\n",
    "FAST_DISK = None  # Path('D:/pipelineTestOutput/temp_suite2p') if you want binaries elsewhere\n",
    "OPS_PATH = Path('D:/pipelineTest/ressources/suite2p_ops_may2025.npy')\n",
    "\n",
    "ops_template = motion.load_global_ops(OPS_PATH)\n",
    "ops_template['nonrigid'] = True"
   ]
  },
  {
   "cell_type": "code",
   "execution_count": 5,
   "id": "03f2e4c9",
   "metadata": {},
   "outputs": [
    {
     "name": "stdout",
     "output_type": "stream",
     "text": [
      "Raw directory: D:\\pipelineTest\\L395_f10\\01_raw\\2p\\functional\n",
      "Output root: D:\\pipelineTestOutput\\L395_f10\\02_reg\\00_preprocessing\\2p_functional\n",
      "Mode: resonant\n",
      "Planes: 5\n",
      "Frames per plane: 3\n",
      "Blocks: [2, 3]\n"
     ]
    }
   ],
   "source": [
    "\n",
    "collection = load_animals(base_dir=METADATA_BASE)\n",
    "animal = collection.by_id(ANIMAL_ID)\n",
    "\n",
    "functional_sessions = [s for s in animal.sessions if s.session_type == \"functional_stack\"]\n",
    "if not functional_sessions:\n",
    "    raise RuntimeError(f\"No functional sessions found for {ANIMAL_ID}\")\n",
    "\n",
    "session = functional_sessions[0]\n",
    "settings = session.session_data.preprocessing_two_photon\n",
    "if settings is None:\n",
    "    raise RuntimeError(\"Two-photon preprocessing settings missing in metadata\")\n",
    "\n",
    "raw_dir = Path(session.session_data.raw_path)\n",
    "output_root = OUTPUT_BASE / ANIMAL_ID / \"02_reg\" / \"00_preprocessing\" / \"2p_functional\"\n",
    "\n",
    "print(\"Raw directory:\", raw_dir)\n",
    "print(\"Output root:\", output_root)\n",
    "print(\"Mode:\", settings.mode)\n",
    "print(\"Planes:\", settings.n_planes)\n",
    "print(\"Frames per plane:\", settings.frames_per_plane)\n",
    "print(\"Blocks:\", settings.blocks)\n"
   ]
  },
  {
   "cell_type": "code",
   "execution_count": 12,
   "id": "1885ea7f",
   "metadata": {},
   "outputs": [],
   "source": [
    "\n",
    "def preprocess_functional_session(*, animal, session, settings, output_root, reprocess=False):\n",
    "    output_root = Path(output_root)\n",
    "    metadata_path = output_root / \"01_individualPlanes\" / f\"{animal.animal_id}_preprocessing_metadata.json\"\n",
    "\n",
    "    if metadata_path.exists() and not reprocess:\n",
    "        print(f\"Skipping preprocessing for {animal.animal_id} (metadata exists at {metadata_path})\")\n",
    "        return {\"metadata\": metadata_path}\n",
    "\n",
    "    results = functional.run(\n",
    "        animal_id=animal.animal_id,\n",
    "        session_id=session.session_id,\n",
    "        raw_dir=session.session_data.raw_path,\n",
    "        output_root=output_root,\n",
    "        settings=settings,\n",
    "    )\n",
    "    print(\"Generated artefacts:\")\n",
    "    for key, path in results.items():\n",
    "        print(f\"  {key}: {path}\")\n",
    "    return results\n"
   ]
  },
  {
   "cell_type": "code",
   "execution_count": 13,
   "id": "06881d8f",
   "metadata": {},
   "outputs": [
    {
     "name": "stdout",
     "output_type": "stream",
     "text": [
      "Skipping preprocessing for L395_f10 (metadata exists at D:\\pipelineTestOutput\\L395_f10\\02_reg\\00_preprocessing\\2p_functional\\01_individualPlanes\\L395_f10_preprocessing_metadata.json)\n"
     ]
    }
   ],
   "source": [
    "\n",
    "results = preprocess_functional_session(\n",
    "    animal=animal,\n",
    "    session=session,\n",
    "    settings=settings,\n",
    "    output_root=output_root,\n",
    "    reprocess=REPROCESS,\n",
    ")\n"
   ]
  },
  {
   "cell_type": "code",
   "execution_count": 14,
   "id": "355a305f",
   "metadata": {},
   "outputs": [
    {
     "name": "stdout",
     "output_type": "stream",
     "text": [
      "{}\n",
      "FOUND BINARIES AND OPS IN ['D:\\\\pipelineTestOutput\\\\L395_f10\\\\02_reg\\\\00_preprocessing\\\\2p_functional\\\\suite2p\\\\plane0\\\\ops.npy']\n",
      "removing previous detection and extraction files, if present\n",
      ">>>>>>>>>>>>>>>>>>>>> PLANE 0 <<<<<<<<<<<<<<<<<<<<<<\n",
      "NOTE: not registered / registration forced with ops['do_registration']>1\n",
      "      (no previous offsets to delete)\n",
      "NOTE: Applying builtin classifier at C:\\Users\\jlarsch\\AppData\\Local\\miniconda3\\envs\\antspy-win\\Lib\\site-packages\\suite2p\\classifiers\\classifier.npy\n",
      "----------- REGISTRATION\n",
      "Reference frame, 5.27 sec.\n"
     ]
    },
    {
     "ename": "MemoryError",
     "evalue": "Unable to allocate 6.09 GiB for an array with shape (3120, 512, 512) and data type complex64",
     "output_type": "error",
     "traceback": [
      "\u001b[1;31m---------------------------------------------------------------------------\u001b[0m",
      "\u001b[1;31mMemoryError\u001b[0m                               Traceback (most recent call last)",
      "Cell \u001b[1;32mIn[14], line 13\u001b[0m\n\u001b[0;32m     10\u001b[0m \u001b[38;5;28;01mexcept\u001b[39;00m \u001b[38;5;167;01mValueError\u001b[39;00m \u001b[38;5;28;01mas\u001b[39;00m err:\n\u001b[0;32m     11\u001b[0m     \u001b[38;5;28;01mraise\u001b[39;00m \u001b[38;5;167;01mValueError\u001b[39;00m(\u001b[38;5;124mf\u001b[39m\u001b[38;5;124m'\u001b[39m\u001b[38;5;124mUnexpected plane filename: \u001b[39m\u001b[38;5;132;01m{\u001b[39;00mplane_path\u001b[38;5;241m.\u001b[39mname\u001b[38;5;132;01m}\u001b[39;00m\u001b[38;5;124m'\u001b[39m) \u001b[38;5;28;01mfrom\u001b[39;00m\u001b[38;5;250m \u001b[39m\u001b[38;5;21;01merr\u001b[39;00m\n\u001b[1;32m---> 13\u001b[0m res \u001b[38;5;241m=\u001b[39m \u001b[43mmotion\u001b[49m\u001b[38;5;241;43m.\u001b[39;49m\u001b[43mrun_motion_correction\u001b[49m\u001b[43m(\u001b[49m\n\u001b[0;32m     14\u001b[0m \u001b[43m    \u001b[49m\u001b[43manimal\u001b[49m\u001b[38;5;241;43m=\u001b[39;49m\u001b[43manimal\u001b[49m\u001b[43m,\u001b[49m\n\u001b[0;32m     15\u001b[0m \u001b[43m    \u001b[49m\u001b[43mplane_idx\u001b[49m\u001b[38;5;241;43m=\u001b[39;49m\u001b[43mplane_idx\u001b[49m\u001b[43m,\u001b[49m\n\u001b[0;32m     16\u001b[0m \u001b[43m    \u001b[49m\u001b[43mplane_tiff\u001b[49m\u001b[38;5;241;43m=\u001b[39;49m\u001b[43mplane_path\u001b[49m\u001b[43m,\u001b[49m\n\u001b[0;32m     17\u001b[0m \u001b[43m    \u001b[49m\u001b[43mops_template\u001b[49m\u001b[38;5;241;43m=\u001b[39;49m\u001b[43mops_template\u001b[49m\u001b[43m,\u001b[49m\n\u001b[0;32m     18\u001b[0m \u001b[43m    \u001b[49m\u001b[43mfps\u001b[49m\u001b[38;5;241;43m=\u001b[39;49m\u001b[43mFPS\u001b[49m\u001b[43m,\u001b[49m\n\u001b[0;32m     19\u001b[0m \u001b[43m    \u001b[49m\u001b[43moutput_root\u001b[49m\u001b[38;5;241;43m=\u001b[39;49m\u001b[43moutput_root\u001b[49m\u001b[43m,\u001b[49m\n\u001b[0;32m     20\u001b[0m \u001b[43m    \u001b[49m\u001b[43mfast_disk\u001b[49m\u001b[38;5;241;43m=\u001b[39;49m\u001b[43mFAST_DISK\u001b[49m\u001b[43m,\u001b[49m\n\u001b[0;32m     21\u001b[0m \u001b[43m    \u001b[49m\u001b[43mreprocess\u001b[49m\u001b[38;5;241;43m=\u001b[39;49m\u001b[43mMOTION_REPROCESS\u001b[49m\u001b[43m,\u001b[49m\n\u001b[0;32m     22\u001b[0m \u001b[43m\u001b[49m\u001b[43m)\u001b[49m\n\u001b[0;32m     23\u001b[0m motion_results\u001b[38;5;241m.\u001b[39mappend(res)\n\u001b[0;32m     24\u001b[0m \u001b[38;5;28mprint\u001b[39m(\u001b[38;5;124mf\u001b[39m\u001b[38;5;124m'\u001b[39m\u001b[38;5;124mProcessed plane \u001b[39m\u001b[38;5;132;01m{\u001b[39;00mplane_idx\u001b[38;5;132;01m}\u001b[39;00m\u001b[38;5;124m'\u001b[39m)\n",
      "File \u001b[1;32mD:\\Documents\\social_imaging_scripts\\src\\social_imaging_scripts\\preprocessing\\two_photon\\motion.py:121\u001b[0m, in \u001b[0;36mrun_motion_correction\u001b[1;34m(animal, plane_idx, plane_tiff, ops_template, fps, output_root, fast_disk, reprocess)\u001b[0m\n\u001b[0;32m    118\u001b[0m     logger\u001b[38;5;241m.\u001b[39minfo(\u001b[38;5;124m\"\u001b[39m\u001b[38;5;124mSkipping plane \u001b[39m\u001b[38;5;132;01m%d\u001b[39;00m\u001b[38;5;124m (metadata exists at \u001b[39m\u001b[38;5;132;01m%s\u001b[39;00m\u001b[38;5;124m)\u001b[39m\u001b[38;5;124m\"\u001b[39m, plane_idx, metadata_path)\n\u001b[0;32m    119\u001b[0m     \u001b[38;5;28;01mreturn\u001b[39;00m {\u001b[38;5;124m\"\u001b[39m\u001b[38;5;124mmetadata\u001b[39m\u001b[38;5;124m\"\u001b[39m: metadata_path}\n\u001b[1;32m--> 121\u001b[0m \u001b[43mrun_suite2p_one_plane\u001b[49m\u001b[43m(\u001b[49m\n\u001b[0;32m    122\u001b[0m \u001b[43m    \u001b[49m\u001b[43mplane_tiff\u001b[49m\u001b[38;5;241;43m=\u001b[39;49m\u001b[43mplane_tiff\u001b[49m\u001b[43m,\u001b[49m\n\u001b[0;32m    123\u001b[0m \u001b[43m    \u001b[49m\u001b[43mops_template\u001b[49m\u001b[38;5;241;43m=\u001b[39;49m\u001b[43mops_template\u001b[49m\u001b[43m,\u001b[49m\n\u001b[0;32m    124\u001b[0m \u001b[43m    \u001b[49m\u001b[43msave_path\u001b[49m\u001b[38;5;241;43m=\u001b[39;49m\u001b[43moutput_root\u001b[49m\u001b[43m,\u001b[49m\n\u001b[0;32m    125\u001b[0m \u001b[43m    \u001b[49m\u001b[43mfps\u001b[49m\u001b[38;5;241;43m=\u001b[39;49m\u001b[43mfps\u001b[49m\u001b[43m,\u001b[49m\n\u001b[0;32m    126\u001b[0m \u001b[43m    \u001b[49m\u001b[43mfast_disk\u001b[49m\u001b[38;5;241;43m=\u001b[39;49m\u001b[43mfast_disk\u001b[49m\u001b[43m,\u001b[49m\n\u001b[0;32m    127\u001b[0m \u001b[43m\u001b[49m\u001b[43m)\u001b[49m\n\u001b[0;32m    129\u001b[0m outputs \u001b[38;5;241m=\u001b[39m move_suite2p_outputs(\n\u001b[0;32m    130\u001b[0m     animal_id\u001b[38;5;241m=\u001b[39manimal\u001b[38;5;241m.\u001b[39manimal_id,\n\u001b[0;32m    131\u001b[0m     plane_idx\u001b[38;5;241m=\u001b[39mplane_idx,\n\u001b[1;32m   (...)\u001b[0m\n\u001b[0;32m    134\u001b[0m     segmentation_output\u001b[38;5;241m=\u001b[39msegmentation_output,\n\u001b[0;32m    135\u001b[0m )\n\u001b[0;32m    137\u001b[0m metadata \u001b[38;5;241m=\u001b[39m {\n\u001b[0;32m    138\u001b[0m     \u001b[38;5;124m\"\u001b[39m\u001b[38;5;124manimal_id\u001b[39m\u001b[38;5;124m\"\u001b[39m: animal\u001b[38;5;241m.\u001b[39manimal_id,\n\u001b[0;32m    139\u001b[0m     \u001b[38;5;124m\"\u001b[39m\u001b[38;5;124mplane_idx\u001b[39m\u001b[38;5;124m\"\u001b[39m: plane_idx,\n\u001b[1;32m   (...)\u001b[0m\n\u001b[0;32m    142\u001b[0m     \u001b[38;5;124m\"\u001b[39m\u001b[38;5;124mfast_disk\u001b[39m\u001b[38;5;124m\"\u001b[39m: \u001b[38;5;28mstr\u001b[39m(fast_disk) \u001b[38;5;28;01mif\u001b[39;00m fast_disk \u001b[38;5;28;01melse\u001b[39;00m \u001b[38;5;28;01mNone\u001b[39;00m,\n\u001b[0;32m    143\u001b[0m }\n",
      "File \u001b[1;32mD:\\Documents\\social_imaging_scripts\\src\\social_imaging_scripts\\preprocessing\\two_photon\\motion.py:55\u001b[0m, in \u001b[0;36mrun_suite2p_one_plane\u001b[1;34m(plane_tiff, ops_template, save_path, fps, fast_disk)\u001b[0m\n\u001b[0;32m     52\u001b[0m \u001b[38;5;28;01mwith\u001b[39;00m tifffile\u001b[38;5;241m.\u001b[39mTiffFile(plane_tiff) \u001b[38;5;28;01mas\u001b[39;00m tif:\n\u001b[0;32m     53\u001b[0m     ops[\u001b[38;5;124m\"\u001b[39m\u001b[38;5;124mbatch_size\u001b[39m\u001b[38;5;124m\"\u001b[39m] \u001b[38;5;241m=\u001b[39m \u001b[38;5;28mlen\u001b[39m(tif\u001b[38;5;241m.\u001b[39mpages)\n\u001b[1;32m---> 55\u001b[0m \u001b[43msuite2p\u001b[49m\u001b[38;5;241;43m.\u001b[39;49m\u001b[43mrun_s2p\u001b[49m\u001b[43m(\u001b[49m\u001b[43mops\u001b[49m\u001b[38;5;241;43m=\u001b[39;49m\u001b[43mops\u001b[49m\u001b[43m)\u001b[49m\n",
      "File \u001b[1;32mc:\\Users\\jlarsch\\AppData\\Local\\miniconda3\\envs\\antspy-win\\lib\\site-packages\\suite2p\\run_s2p.py:550\u001b[0m, in \u001b[0;36mrun_s2p\u001b[1;34m(ops, db, server)\u001b[0m\n\u001b[0;32m    547\u001b[0m                 op[key] \u001b[38;5;241m=\u001b[39m ops[key]\n\u001b[0;32m    549\u001b[0m     \u001b[38;5;28mprint\u001b[39m(\u001b[38;5;124m\"\u001b[39m\u001b[38;5;124m>>>>>>>>>>>>>>>>>>>>> PLANE \u001b[39m\u001b[38;5;132;01m%d\u001b[39;00m\u001b[38;5;124m <<<<<<<<<<<<<<<<<<<<<<\u001b[39m\u001b[38;5;124m\"\u001b[39m \u001b[38;5;241m%\u001b[39m ipl)\n\u001b[1;32m--> 550\u001b[0m     op \u001b[38;5;241m=\u001b[39m \u001b[43mrun_plane\u001b[49m\u001b[43m(\u001b[49m\u001b[43mop\u001b[49m\u001b[43m,\u001b[49m\u001b[43m \u001b[49m\u001b[43mops_path\u001b[49m\u001b[38;5;241;43m=\u001b[39;49m\u001b[43mops_path\u001b[49m\u001b[43m)\u001b[49m\n\u001b[0;32m    551\u001b[0m     \u001b[38;5;28mprint\u001b[39m(\u001b[38;5;124m\"\u001b[39m\u001b[38;5;124mPlane \u001b[39m\u001b[38;5;132;01m%d\u001b[39;00m\u001b[38;5;124m processed in \u001b[39m\u001b[38;5;132;01m%0.2f\u001b[39;00m\u001b[38;5;124m sec (can open in GUI).\u001b[39m\u001b[38;5;124m\"\u001b[39m \u001b[38;5;241m%\u001b[39m\n\u001b[0;32m    552\u001b[0m           (ipl, op[\u001b[38;5;124m\"\u001b[39m\u001b[38;5;124mtiming\u001b[39m\u001b[38;5;124m\"\u001b[39m][\u001b[38;5;124m\"\u001b[39m\u001b[38;5;124mtotal_plane_runtime\u001b[39m\u001b[38;5;124m\"\u001b[39m]))\n\u001b[0;32m    553\u001b[0m run_time \u001b[38;5;241m=\u001b[39m time\u001b[38;5;241m.\u001b[39mtime() \u001b[38;5;241m-\u001b[39m t0\n",
      "File \u001b[1;32mc:\\Users\\jlarsch\\AppData\\Local\\miniconda3\\envs\\antspy-win\\lib\\site-packages\\suite2p\\run_s2p.py:342\u001b[0m, in \u001b[0;36mrun_plane\u001b[1;34m(ops, ops_path, stat)\u001b[0m\n\u001b[0;32m    333\u001b[0m twoc \u001b[38;5;241m=\u001b[39m ops[\u001b[38;5;124m\"\u001b[39m\u001b[38;5;124mnchannels\u001b[39m\u001b[38;5;124m\"\u001b[39m] \u001b[38;5;241m>\u001b[39m \u001b[38;5;241m1\u001b[39m\n\u001b[0;32m    334\u001b[0m \u001b[38;5;28;01mwith\u001b[39;00m io\u001b[38;5;241m.\u001b[39mBinaryFile(Ly\u001b[38;5;241m=\u001b[39mLy, Lx\u001b[38;5;241m=\u001b[39mLx, filename\u001b[38;5;241m=\u001b[39mraw_file, n_frames\u001b[38;5;241m=\u001b[39mn_frames) \\\n\u001b[0;32m    335\u001b[0m         \u001b[38;5;28;01mif\u001b[39;00m raw \u001b[38;5;28;01melse\u001b[39;00m null \u001b[38;5;28;01mas\u001b[39;00m f_raw, \\\n\u001b[0;32m    336\u001b[0m      io\u001b[38;5;241m.\u001b[39mBinaryFile(Ly\u001b[38;5;241m=\u001b[39mLy, Lx\u001b[38;5;241m=\u001b[39mLx, filename\u001b[38;5;241m=\u001b[39mreg_file, n_frames\u001b[38;5;241m=\u001b[39mn_frames) \u001b[38;5;28;01mas\u001b[39;00m f_reg, \\\n\u001b[1;32m   (...)\u001b[0m\n\u001b[0;32m    339\u001b[0m      io\u001b[38;5;241m.\u001b[39mBinaryFile(Ly\u001b[38;5;241m=\u001b[39mLy, Lx\u001b[38;5;241m=\u001b[39mLx, filename\u001b[38;5;241m=\u001b[39mreg_file_chan2, n_frames\u001b[38;5;241m=\u001b[39mn_frames) \\\n\u001b[0;32m    340\u001b[0m         \u001b[38;5;28;01mif\u001b[39;00m twoc \u001b[38;5;28;01melse\u001b[39;00m null \u001b[38;5;28;01mas\u001b[39;00m f_reg_chan2:\n\u001b[1;32m--> 342\u001b[0m     ops \u001b[38;5;241m=\u001b[39m \u001b[43mpipeline\u001b[49m\u001b[43m(\u001b[49m\u001b[43mf_reg\u001b[49m\u001b[43m,\u001b[49m\u001b[43m \u001b[49m\u001b[43mf_raw\u001b[49m\u001b[43m,\u001b[49m\u001b[43m \u001b[49m\u001b[43mf_reg_chan2\u001b[49m\u001b[43m,\u001b[49m\u001b[43m \u001b[49m\u001b[43mf_raw_chan2\u001b[49m\u001b[43m,\u001b[49m\u001b[43m \u001b[49m\u001b[43mrun_registration\u001b[49m\u001b[43m,\u001b[49m\u001b[43m \u001b[49m\u001b[43mops\u001b[49m\u001b[43m,\u001b[49m\n\u001b[0;32m    343\u001b[0m \u001b[43m                   \u001b[49m\u001b[43mstat\u001b[49m\u001b[38;5;241;43m=\u001b[39;49m\u001b[43mstat\u001b[49m\u001b[43m)\u001b[49m\n\u001b[0;32m    345\u001b[0m \u001b[38;5;28;01mif\u001b[39;00m ops\u001b[38;5;241m.\u001b[39mget(\u001b[38;5;124m\"\u001b[39m\u001b[38;5;124mmove_bin\u001b[39m\u001b[38;5;124m\"\u001b[39m) \u001b[38;5;129;01mand\u001b[39;00m ops[\u001b[38;5;124m\"\u001b[39m\u001b[38;5;124msave_path\u001b[39m\u001b[38;5;124m\"\u001b[39m] \u001b[38;5;241m!=\u001b[39m ops[\u001b[38;5;124m\"\u001b[39m\u001b[38;5;124mfast_disk\u001b[39m\u001b[38;5;124m\"\u001b[39m]:\n\u001b[0;32m    346\u001b[0m     \u001b[38;5;28mprint\u001b[39m(\u001b[38;5;124m\"\u001b[39m\u001b[38;5;124mmoving binary files to save_path\u001b[39m\u001b[38;5;124m\"\u001b[39m)\n",
      "File \u001b[1;32mc:\\Users\\jlarsch\\AppData\\Local\\miniconda3\\envs\\antspy-win\\lib\\site-packages\\suite2p\\run_s2p.py:114\u001b[0m, in \u001b[0;36mpipeline\u001b[1;34m(f_reg, f_raw, f_reg_chan2, f_raw_chan2, run_registration, ops, stat)\u001b[0m\n\u001b[0;32m    110\u001b[0m refImg \u001b[38;5;241m=\u001b[39m ops[\u001b[38;5;124m\"\u001b[39m\u001b[38;5;124mrefImg\u001b[39m\u001b[38;5;124m\"\u001b[39m] \u001b[38;5;28;01mif\u001b[39;00m \u001b[38;5;124m\"\u001b[39m\u001b[38;5;124mrefImg\u001b[39m\u001b[38;5;124m\"\u001b[39m \u001b[38;5;129;01min\u001b[39;00m ops \u001b[38;5;129;01mand\u001b[39;00m ops\u001b[38;5;241m.\u001b[39mget(\u001b[38;5;124m\"\u001b[39m\u001b[38;5;124mforce_refImg\u001b[39m\u001b[38;5;124m\"\u001b[39m,\n\u001b[0;32m    111\u001b[0m                                                       \u001b[38;5;28;01mFalse\u001b[39;00m) \u001b[38;5;28;01melse\u001b[39;00m \u001b[38;5;28;01mNone\u001b[39;00m\n\u001b[0;32m    113\u001b[0m align_by_chan2 \u001b[38;5;241m=\u001b[39m ops[\u001b[38;5;124m\"\u001b[39m\u001b[38;5;124mfunctional_chan\u001b[39m\u001b[38;5;124m\"\u001b[39m] \u001b[38;5;241m!=\u001b[39m ops[\u001b[38;5;124m\"\u001b[39m\u001b[38;5;124malign_by_chan\u001b[39m\u001b[38;5;124m\"\u001b[39m]\n\u001b[1;32m--> 114\u001b[0m registration_outputs \u001b[38;5;241m=\u001b[39m \u001b[43mregistration\u001b[49m\u001b[38;5;241;43m.\u001b[39;49m\u001b[43mregistration_wrapper\u001b[49m\u001b[43m(\u001b[49m\n\u001b[0;32m    115\u001b[0m \u001b[43m    \u001b[49m\u001b[43mf_reg\u001b[49m\u001b[43m,\u001b[49m\u001b[43m \u001b[49m\u001b[43mf_raw\u001b[49m\u001b[38;5;241;43m=\u001b[39;49m\u001b[43mf_raw\u001b[49m\u001b[43m,\u001b[49m\u001b[43m \u001b[49m\u001b[43mf_reg_chan2\u001b[49m\u001b[38;5;241;43m=\u001b[39;49m\u001b[43mf_reg_chan2\u001b[49m\u001b[43m,\u001b[49m\u001b[43m \u001b[49m\u001b[43mf_raw_chan2\u001b[49m\u001b[38;5;241;43m=\u001b[39;49m\u001b[43mf_raw_chan2\u001b[49m\u001b[43m,\u001b[49m\n\u001b[0;32m    116\u001b[0m \u001b[43m    \u001b[49m\u001b[43mrefImg\u001b[49m\u001b[38;5;241;43m=\u001b[39;49m\u001b[43mrefImg\u001b[49m\u001b[43m,\u001b[49m\u001b[43m \u001b[49m\u001b[43malign_by_chan2\u001b[49m\u001b[38;5;241;43m=\u001b[39;49m\u001b[43malign_by_chan2\u001b[49m\u001b[43m,\u001b[49m\u001b[43m \u001b[49m\u001b[43mops\u001b[49m\u001b[38;5;241;43m=\u001b[39;49m\u001b[43mops\u001b[49m\u001b[43m)\u001b[49m\n\u001b[0;32m    118\u001b[0m ops \u001b[38;5;241m=\u001b[39m registration\u001b[38;5;241m.\u001b[39msave_registration_outputs_to_ops(registration_outputs, ops)\n\u001b[0;32m    119\u001b[0m \u001b[38;5;66;03m# add enhanced mean image\u001b[39;00m\n",
      "File \u001b[1;32mc:\\Users\\jlarsch\\AppData\\Local\\miniconda3\\envs\\antspy-win\\lib\\site-packages\\suite2p\\registration\\register.py:642\u001b[0m, in \u001b[0;36mregistration_wrapper\u001b[1;34m(f_reg, f_raw, f_reg_chan2, f_raw_chan2, refImg, align_by_chan2, ops)\u001b[0m\n\u001b[0;32m    639\u001b[0m \u001b[38;5;28;01melse\u001b[39;00m:\n\u001b[0;32m    640\u001b[0m     nchannels \u001b[38;5;241m=\u001b[39m \u001b[38;5;241m1\u001b[39m\n\u001b[1;32m--> 642\u001b[0m outputs \u001b[38;5;241m=\u001b[39m \u001b[43mcompute_reference_and_register_frames\u001b[49m\u001b[43m(\u001b[49m\u001b[43mf_align_in\u001b[49m\u001b[43m,\u001b[49m\u001b[43m \u001b[49m\u001b[43mf_align_out\u001b[49m\u001b[38;5;241;43m=\u001b[39;49m\u001b[43mf_align_out\u001b[49m\u001b[43m,\u001b[49m\n\u001b[0;32m    643\u001b[0m \u001b[43m                                                \u001b[49m\u001b[43mrefImg\u001b[49m\u001b[38;5;241;43m=\u001b[39;49m\u001b[43mrefImg\u001b[49m\u001b[43m,\u001b[49m\u001b[43m \u001b[49m\u001b[43mops\u001b[49m\u001b[38;5;241;43m=\u001b[39;49m\u001b[43mops\u001b[49m\u001b[43m)\u001b[49m\n\u001b[0;32m    644\u001b[0m refImg, rmin, rmax, mean_img, rigid_offsets, nonrigid_offsets, zest \u001b[38;5;241m=\u001b[39m outputs\n\u001b[0;32m    645\u001b[0m yoff, xoff, corrXY \u001b[38;5;241m=\u001b[39m rigid_offsets\n",
      "File \u001b[1;32mc:\\Users\\jlarsch\\AppData\\Local\\miniconda3\\envs\\antspy-win\\lib\\site-packages\\suite2p\\registration\\register.py:450\u001b[0m, in \u001b[0;36mcompute_reference_and_register_frames\u001b[1;34m(f_align_in, f_align_out, refImg, ops)\u001b[0m\n\u001b[0;32m    448\u001b[0m \u001b[38;5;28;01mfor\u001b[39;00m k \u001b[38;5;129;01min\u001b[39;00m np\u001b[38;5;241m.\u001b[39marange(\u001b[38;5;241m0\u001b[39m, n_frames, batch_size):\n\u001b[0;32m    449\u001b[0m     frames \u001b[38;5;241m=\u001b[39m f_align_in[k:\u001b[38;5;28mmin\u001b[39m(k \u001b[38;5;241m+\u001b[39m batch_size, n_frames)]\n\u001b[1;32m--> 450\u001b[0m     frames, ymax, xmax, cmax, ymax1, xmax1, cmax1, zest \u001b[38;5;241m=\u001b[39m \u001b[43mregister_frames\u001b[49m\u001b[43m(\u001b[49m\n\u001b[0;32m    451\u001b[0m \u001b[43m        \u001b[49m\u001b[43mrefAndMasks\u001b[49m\u001b[43m,\u001b[49m\u001b[43m \u001b[49m\u001b[43mframes\u001b[49m\u001b[43m,\u001b[49m\u001b[43m \u001b[49m\u001b[43mrmin\u001b[49m\u001b[38;5;241;43m=\u001b[39;49m\u001b[43mrmin\u001b[49m\u001b[43m,\u001b[49m\u001b[43m \u001b[49m\u001b[43mrmax\u001b[49m\u001b[38;5;241;43m=\u001b[39;49m\u001b[43mrmax\u001b[49m\u001b[43m,\u001b[49m\u001b[43m \u001b[49m\u001b[43mbidiphase\u001b[49m\u001b[38;5;241;43m=\u001b[39;49m\u001b[43mbidiphase\u001b[49m\u001b[43m,\u001b[49m\u001b[43m \u001b[49m\u001b[43mops\u001b[49m\u001b[38;5;241;43m=\u001b[39;49m\u001b[43mops\u001b[49m\u001b[43m,\u001b[49m\n\u001b[0;32m    452\u001b[0m \u001b[43m        \u001b[49m\u001b[43mnZ\u001b[49m\u001b[38;5;241;43m=\u001b[39;49m\u001b[43mnZ\u001b[49m\u001b[43m)\u001b[49m\n\u001b[0;32m    453\u001b[0m     rigid_offsets\u001b[38;5;241m.\u001b[39mappend([ymax, xmax, cmax])\n\u001b[0;32m    454\u001b[0m     \u001b[38;5;28;01mif\u001b[39;00m zest \u001b[38;5;129;01mis\u001b[39;00m \u001b[38;5;129;01mnot\u001b[39;00m \u001b[38;5;28;01mNone\u001b[39;00m:\n",
      "File \u001b[1;32mc:\\Users\\jlarsch\\AppData\\Local\\miniconda3\\envs\\antspy-win\\lib\\site-packages\\suite2p\\registration\\register.py:304\u001b[0m, in \u001b[0;36mregister_frames\u001b[1;34m(refAndMasks, frames, rmin, rmax, bidiphase, ops, nZ)\u001b[0m\n\u001b[0;32m    300\u001b[0m     fsmooth \u001b[38;5;241m=\u001b[39m utils\u001b[38;5;241m.\u001b[39mspatial_high_pass(fsmooth, \u001b[38;5;28mint\u001b[39m(ops[\u001b[38;5;124m\"\u001b[39m\u001b[38;5;124mspatial_hp_reg\u001b[39m\u001b[38;5;124m\"\u001b[39m]))\n\u001b[0;32m    302\u001b[0m \u001b[38;5;66;03m# rigid registration\u001b[39;00m\n\u001b[0;32m    303\u001b[0m ymax, xmax, cmax \u001b[38;5;241m=\u001b[39m rigid\u001b[38;5;241m.\u001b[39mphasecorr(\n\u001b[1;32m--> 304\u001b[0m     data\u001b[38;5;241m=\u001b[39m\u001b[43mrigid\u001b[49m\u001b[38;5;241;43m.\u001b[39;49m\u001b[43mapply_masks\u001b[49m\u001b[43m(\u001b[49m\n\u001b[0;32m    305\u001b[0m \u001b[43m        \u001b[49m\u001b[43mdata\u001b[49m\u001b[38;5;241;43m=\u001b[39;49m\u001b[43mnp\u001b[49m\u001b[38;5;241;43m.\u001b[39;49m\u001b[43mclip\u001b[49m\u001b[43m(\u001b[49m\u001b[43mfsmooth\u001b[49m\u001b[43m,\u001b[49m\u001b[43m \u001b[49m\u001b[43mrmin\u001b[49m\u001b[43m,\u001b[49m\u001b[43m \u001b[49m\u001b[43mrmax\u001b[49m\u001b[43m)\u001b[49m\u001b[43m \u001b[49m\u001b[38;5;28;43;01mif\u001b[39;49;00m\u001b[43m \u001b[49m\u001b[43mrmin\u001b[49m\u001b[43m \u001b[49m\u001b[38;5;241;43m>\u001b[39;49m\u001b[43m \u001b[49m\u001b[38;5;241;43m-\u001b[39;49m\u001b[43mnp\u001b[49m\u001b[38;5;241;43m.\u001b[39;49m\u001b[43minf\u001b[49m\u001b[43m \u001b[49m\u001b[38;5;28;43;01melse\u001b[39;49;00m\u001b[43m \u001b[49m\u001b[43mfsmooth\u001b[49m\u001b[43m,\u001b[49m\n\u001b[0;32m    306\u001b[0m \u001b[43m        \u001b[49m\u001b[43mmaskMul\u001b[49m\u001b[38;5;241;43m=\u001b[39;49m\u001b[43mmaskMul\u001b[49m\u001b[43m,\u001b[49m\u001b[43m \u001b[49m\u001b[43mmaskOffset\u001b[49m\u001b[38;5;241;43m=\u001b[39;49m\u001b[43mmaskOffset\u001b[49m\u001b[43m)\u001b[49m,\n\u001b[0;32m    307\u001b[0m     cfRefImg\u001b[38;5;241m=\u001b[39mcfRefImg,\n\u001b[0;32m    308\u001b[0m     maxregshift\u001b[38;5;241m=\u001b[39mops[\u001b[38;5;124m\"\u001b[39m\u001b[38;5;124mmaxregshift\u001b[39m\u001b[38;5;124m\"\u001b[39m],\n\u001b[0;32m    309\u001b[0m     smooth_sigma_time\u001b[38;5;241m=\u001b[39mops[\u001b[38;5;124m\"\u001b[39m\u001b[38;5;124msmooth_sigma_time\u001b[39m\u001b[38;5;124m\"\u001b[39m],\n\u001b[0;32m    310\u001b[0m )\n\u001b[0;32m    312\u001b[0m \u001b[38;5;28;01mfor\u001b[39;00m frame, dy, dx \u001b[38;5;129;01min\u001b[39;00m \u001b[38;5;28mzip\u001b[39m(frames, ymax, xmax):\n\u001b[0;32m    313\u001b[0m     frame[:] \u001b[38;5;241m=\u001b[39m rigid\u001b[38;5;241m.\u001b[39mshift_frame(frame\u001b[38;5;241m=\u001b[39mframe, dy\u001b[38;5;241m=\u001b[39mdy, dx\u001b[38;5;241m=\u001b[39mdx)\n",
      "File \u001b[1;32mc:\\Users\\jlarsch\\AppData\\Local\\miniconda3\\envs\\antspy-win\\lib\\site-packages\\suite2p\\registration\\rigid.py:49\u001b[0m, in \u001b[0;36mapply_masks\u001b[1;34m(data, maskMul, maskOffset)\u001b[0m\n\u001b[0;32m     34\u001b[0m \u001b[38;5;28;01mdef\u001b[39;00m\u001b[38;5;250m \u001b[39m\u001b[38;5;21mapply_masks\u001b[39m(data: np\u001b[38;5;241m.\u001b[39mndarray, maskMul: np\u001b[38;5;241m.\u001b[39mndarray,\n\u001b[0;32m     35\u001b[0m                 maskOffset: np\u001b[38;5;241m.\u001b[39mndarray) \u001b[38;5;241m-\u001b[39m\u001b[38;5;241m>\u001b[39m np\u001b[38;5;241m.\u001b[39mndarray:\n\u001b[0;32m     36\u001b[0m \u001b[38;5;250m    \u001b[39m\u001b[38;5;124;03m\"\"\"\u001b[39;00m\n\u001b[0;32m     37\u001b[0m \u001b[38;5;124;03m    Returns a 3D image \"data\", multiplied by \"maskMul\" and then added \"maskOffet\".\u001b[39;00m\n\u001b[0;32m     38\u001b[0m \n\u001b[1;32m   (...)\u001b[0m\n\u001b[0;32m     47\u001b[0m \u001b[38;5;124;03m    maskedData: nImg x Ly x Lx\u001b[39;00m\n\u001b[0;32m     48\u001b[0m \u001b[38;5;124;03m    \"\"\"\u001b[39;00m\n\u001b[1;32m---> 49\u001b[0m     \u001b[38;5;28;01mreturn\u001b[39;00m \u001b[43maddmultiply\u001b[49m\u001b[43m(\u001b[49m\u001b[43mdata\u001b[49m\u001b[43m,\u001b[49m\u001b[43m \u001b[49m\u001b[43mmaskMul\u001b[49m\u001b[43m,\u001b[49m\u001b[43m \u001b[49m\u001b[43mmaskOffset\u001b[49m\u001b[43m)\u001b[49m\n",
      "\u001b[1;31mMemoryError\u001b[0m: Unable to allocate 6.09 GiB for an array with shape (3120, 512, 512) and data type complex64"
     ]
    }
   ],
   "source": [
    "plane_dir = output_root / '01_individualPlanes'\n",
    "plane_tiffs = sorted(plane_dir.glob(f'{ANIMAL_ID}_plane*.tif'))\n",
    "if not plane_tiffs:\n",
    "    raise FileNotFoundError(f'No plane TIFFs found in {plane_dir}')\n",
    "\n",
    "motion_results = []\n",
    "for plane_path in plane_tiffs:\n",
    "    try:\n",
    "        plane_idx = int(plane_path.stem.split('plane')[-1])\n",
    "    except ValueError as err:\n",
    "        raise ValueError(f'Unexpected plane filename: {plane_path.name}') from err\n",
    "\n",
    "    res = motion.run_motion_correction(\n",
    "        animal=animal,\n",
    "        plane_idx=plane_idx,\n",
    "        plane_tiff=plane_path,\n",
    "        ops_template=ops_template,\n",
    "        fps=FPS,\n",
    "        output_root=output_root,\n",
    "        fast_disk=FAST_DISK,\n",
    "        reprocess=MOTION_REPROCESS,\n",
    "    )\n",
    "    motion_results.append(res)\n",
    "    print(f'Processed plane {plane_idx}')"
   ]
  },
  {
   "cell_type": "code",
   "execution_count": null,
   "id": "4cd9c4d3",
   "metadata": {},
   "outputs": [],
   "source": [
    "print('Motion correction outputs:')\n",
    "for res in motion_results:\n",
    "    for key, path in res.items():\n",
    "        print(f'  {key}: {path}')"
   ]
  },
  {
   "cell_type": "code",
   "execution_count": null,
   "id": "073d7717",
   "metadata": {},
   "outputs": [],
   "source": [
    "\n",
    "from itertools import islice\n",
    "\n",
    "plane_dir = output_root / \"01_individualPlanes\"\n",
    "if plane_dir.exists():\n",
    "    print(\"Sample outputs:\")\n",
    "    for path in islice(sorted(plane_dir.glob(\"*.tif\")), 5):\n",
    "        print(\"  \", path)\n",
    "    metadata_file = plane_dir / f\"{animal.animal_id}_preprocessing_metadata.json\"\n",
    "    if metadata_file.exists():\n",
    "        print(\"Metadata:\", metadata_file)\n"
   ]
  }
 ],
 "metadata": {
  "kernelspec": {
   "display_name": "antspy-win",
   "language": "python",
   "name": "python3"
  },
  "language_info": {
   "codemirror_mode": {
    "name": "ipython",
    "version": 3
   },
   "file_extension": ".py",
   "mimetype": "text/x-python",
   "name": "python",
   "nbconvert_exporter": "python",
   "pygments_lexer": "ipython3",
   "version": "3.10.18"
  }
 },
 "nbformat": 4,
 "nbformat_minor": 5
}
