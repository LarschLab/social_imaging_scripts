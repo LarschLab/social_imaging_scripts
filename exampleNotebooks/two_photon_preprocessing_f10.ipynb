{
 "cells": [
  {
   "cell_type": "markdown",
   "id": "2cf2531e",
   "metadata": {},
   "source": [
    "\n",
    "# Two-photon Functional Preprocessing (L395_f10)\n",
    "\n",
    "This notebook loads repository metadata, derives the preprocessing parameters for a two-photon functional session, and runs the preprocessing pipeline. Output artefacts mirror the existing `02_reg/00_preprocessing/2p_functional` layout, but everything is written into `D:/pipelineTestOutput` for testing.\n",
    "\n",
    "> Set `REPROCESS = True` if you need to overwrite existing outputs.\n"
   ]
  },
  {
   "cell_type": "code",
   "execution_count": null,
   "id": "3a8a99d9",
   "metadata": {},
   "outputs": [],
   "source": [
    "from pathlib import Path\n",
    "import logging\n",
    "\n",
    "from social_imaging_scripts.metadata.loader import load_animals\n",
    "from social_imaging_scripts.preprocessing.two_photon import functional, motion\n",
    "from social_imaging_scripts.metadata.config import load_project_config\n",
    "from social_imaging_scripts.metadata.config import resolve_raw_path\n",
    "\n",
    "\n",
    "logging.basicConfig(level=logging.INFO, format=\"%(asctime)s %(levelname)s %(message)s\")"
   ]
  },
  {
   "cell_type": "code",
   "execution_count": null,
   "id": "6dabf957",
   "metadata": {},
   "outputs": [],
   "source": [
    "\n",
    "cfg = load_project_config()\n",
    "PROJECT_ROOT = Path.cwd().parent\n",
    "ANIMAL_ID = \"L395_f10\"\n",
    "OUTPUT_BASE = cfg.output_base_dir  # resolves to /mnt/f/johannes/testoutput on WSL, D:/social_imaging_outputs on Windows\n",
    "\n",
    "METADATA_BASE = PROJECT_ROOT / \"metadata/animals\"\n",
    "\n",
    "FAST_DISK = OUTPUT_BASE  # Path('D:/pipelineTestOutput/temp_suite2p') if you want binaries elsewhere\n",
    "OPS_PATH = Path(\"../suite2p_ops_may2025.npy\")\n",
    "\n",
    "REFERENCE_BRAIN_RELATIVE = Path(\"03_Common_Use/reference brains/ref_05_LB_Perrino_2p/average_2p_noRot_orig.nrrd\")\n",
    "reference_brain_path = resolve_raw_path(REFERENCE_BRAIN_RELATIVE, cfg=cfg)"
   ]
  },
  {
   "cell_type": "code",
   "execution_count": null,
   "id": "79cdf8d6",
   "metadata": {},
   "outputs": [],
   "source": [
    "REPROCESS = False # whether to re-run plane splitting if outputs already exist\n",
    "MOTION_REPROCESS = False\n",
    "FPS = 2.0  # Hz\n",
    "\n",
    "\n",
    "ops_template = motion.load_global_ops(OPS_PATH)\n",
    "ops_template['nonrigid'] = True"
   ]
  },
  {
   "cell_type": "code",
   "execution_count": null,
   "id": "03f2e4c9",
   "metadata": {},
   "outputs": [],
   "source": [
    "\n",
    "collection = load_animals(base_dir=METADATA_BASE)\n",
    "animal = collection.by_id(ANIMAL_ID)\n",
    "\n",
    "functional_sessions = [s for s in animal.sessions if s.session_type == \"functional_stack\"]\n",
    "if not functional_sessions:\n",
    "    raise RuntimeError(f\"No functional sessions found for {ANIMAL_ID}\")\n",
    "\n",
    "session = functional_sessions[0]\n",
    "settings = session.session_data.preprocessing_two_photon\n",
    "if settings is None:\n",
    "    raise RuntimeError(\"Two-photon preprocessing settings missing in metadata\")\n",
    "\n",
    "raw_dir = Path(session.session_data.raw_path)\n",
    "output_root = OUTPUT_BASE / ANIMAL_ID / \"02_reg\" / \"00_preprocessing\" / \"2p_functional\"\n",
    "\n",
    "print(\"Raw directory:\", raw_dir)\n",
    "print(\"Output root:\", output_root)\n",
    "print(\"Mode:\", settings.mode)\n",
    "print(\"Planes:\", settings.n_planes)\n",
    "print(\"Frames per plane:\", settings.frames_per_plane)\n",
    "print(\"Blocks:\", settings.blocks)\n"
   ]
  },
  {
   "cell_type": "markdown",
   "id": "c547055a",
   "metadata": {},
   "source": [
    "## FireANTs anatomy registration\n",
    "\n",
    "Run the new FireANTs pipeline (winsorize → affine → greedy) to align the two-photon anatomy stack to the Perrino reference brain."
   ]
  },
  {
   "cell_type": "code",
   "execution_count": null,
   "id": "f39a0ff3",
   "metadata": {},
   "outputs": [],
   "source": [
    "from pathlib import Path\n",
    "\n",
    "from social_imaging_scripts.registration import (\n",
    "    FireANTsRegistrationConfig,\n",
    "    register_two_photon_anatomy,\n",
    ")\n",
    "from social_imaging_scripts.metadata.config import resolve_raw_path, resolve_output_path\n",
    "\n",
    "FIREANTS_CONFIG = FireANTsRegistrationConfig()\n",
    "print(FIREANTS_CONFIG)"
   ]
  },
  {
   "cell_type": "code",
   "execution_count": null,
   "id": "b95c15f7",
   "metadata": {},
   "outputs": [],
   "source": [
    "# Resolve inputs/outputs based on metadata\n",
    "anatomy_sessions = [\n",
    "    s\n",
    "    for s in animal.sessions\n",
    "    if s.session_type == \"anatomy_stack\"\n",
    "    and getattr(s.session_data, \"stack_type\", \"\") == \"two_photon\"\n",
    "]\n",
    "if not anatomy_sessions:\n",
    "    raise RuntimeError(f\"No two-photon anatomy session found for {ANIMAL_ID}\")\n",
    "\n",
    "anatomy_session = anatomy_sessions[0]\n",
    "raw_anatomy = Path(animal.root_dir) / anatomy_session.session_data.raw_path\n",
    "raw_anatomy_full = resolve_raw_path(raw_anatomy, cfg=cfg)\n",
    "if not raw_anatomy_full.exists():\n",
    "    raise FileNotFoundError(raw_anatomy_full)\n",
    "\n",
    "reference_path = resolve_raw_path(\n",
    "    Path(\"03_Common_Use/reference brains/ref_05_LB_Perrino_2p/average_2p_noRot_orig.nrrd\"),\n",
    "    cfg=cfg,\n",
    ")\n",
    "if not reference_path.exists():\n",
    "    raise FileNotFoundError(reference_path)\n",
    "\n",
    "registration_output_root = resolve_output_path(\n",
    "    ANIMAL_ID,\n",
    "    \"02_reg\",\n",
    "    \"02_fireants\",\n",
    "    cfg=cfg,\n",
    ")\n",
    "registration_output_root.mkdir(parents=True, exist_ok=True)\n",
    "\n",
    "print(\"Moving stack:\", raw_anatomy_full)\n",
    "print(\"Reference brain:\", reference_path)\n",
    "print(\"Output root:\", registration_output_root)"
   ]
  },
  {
   "cell_type": "code",
   "execution_count": null,
   "id": "8b5c012d",
   "metadata": {},
   "outputs": [],
   "source": [
    "fireants_results = register_two_photon_anatomy(\n",
    "    animal_id=ANIMAL_ID,\n",
    "    session_id=anatomy_session.session_id,\n",
    "    stack_path=raw_anatomy_full,\n",
    "    reference_path=reference_path,\n",
    "    output_root=registration_output_root,\n",
    "    config=FIREANTS_CONFIG,\n",
    ")\n",
    "\n",
    "print(\"FireANTs outputs:\")\n",
    "for key, value in fireants_results.items():\n",
    "    print(f\"  {key}: {value}\")"
   ]
  },
  {
   "cell_type": "code",
   "execution_count": null,
   "id": "7ec0de8c",
   "metadata": {},
   "outputs": [],
   "source": [
    "from IPython.display import display, Image\n",
    "\n",
    "qc_path = fireants_results.get(\"qc\")\n",
    "if qc_path and Path(qc_path).exists():\n",
    "    display(Image(filename=qc_path))\n",
    "else:\n",
    "    print(\"QC file not found\")"
   ]
  }
 ],
 "metadata": {
  "kernelspec": {
   "display_name": "antspy-win",
   "language": "python",
   "name": "python3"
  },
  "language_info": {
   "codemirror_mode": {
    "name": "ipython",
    "version": 3
   },
   "file_extension": ".py",
   "mimetype": "text/x-python",
   "name": "python",
   "nbconvert_exporter": "python",
   "pygments_lexer": "ipython3",
   "version": "3.10.18"
  }
 },
 "nbformat": 4,
 "nbformat_minor": 5
}
