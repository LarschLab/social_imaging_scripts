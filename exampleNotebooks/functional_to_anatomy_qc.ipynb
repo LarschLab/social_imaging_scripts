{
 "cells": [
  {
   "cell_type": "markdown",
   "id": "3201c08d",
   "metadata": {},
   "source": [
    "# Functional → Anatomy Registration QC\n",
    "\n",
    "Interactive checker rebuilt from scratch.\n"
   ]
  },
  {
   "cell_type": "code",
   "execution_count": null,
   "id": "1b0f55f5",
   "metadata": {
    "tags": [
     "parameters"
    ]
   },
   "outputs": [],
   "source": [
    "from social_imaging_scripts.analysis.functional_to_anatomy_qc_gui import RegistrationQC\n",
    "\n",
    "qc = RegistrationQC()\n",
    "print(\"Combined functional→anatomy registration summary:\n",
    "\")\n",
    "display(qc.summary)\n",
    "print(\"\n",
    "Animals queued for QC:\", qc.animals)\n"
   ]
  },
  {
   "cell_type": "code",
   "execution_count": null,
   "id": "c447a41c",
   "metadata": {},
   "outputs": [],
   "source": [
    "qc.create_viewer()"
   ]
  },
  {
   "cell_type": "code",
   "execution_count": null,
   "id": "f8659ed4",
   "metadata": {},
   "outputs": [],
   "source": [
    "# Example static inspection\n",
    "# qc.show_static(qc.animals[0], plane_index=0)\n"
   ]
  }
 ],
 "metadata": {},
 "nbformat": 4,
 "nbformat_minor": 5
}
