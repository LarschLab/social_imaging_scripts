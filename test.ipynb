{
 "cells": [
  {
   "cell_type": "code",
   "execution_count": null,
   "id": "587d2077",
   "metadata": {},
   "outputs": [],
   "source": [
    "from fireants.registration.moments import MomentsRegistration"
   ]
  }
 ],
 "metadata": {},
 "nbformat": 4,
 "nbformat_minor": 5
}
